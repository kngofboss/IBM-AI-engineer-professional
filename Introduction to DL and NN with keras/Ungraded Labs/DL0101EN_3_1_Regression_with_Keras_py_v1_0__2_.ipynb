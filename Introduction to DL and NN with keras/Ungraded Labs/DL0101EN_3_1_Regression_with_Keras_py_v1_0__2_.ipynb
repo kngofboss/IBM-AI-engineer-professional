{
  "cells": [
    {
      "cell_type": "markdown",
      "metadata": {
        "id": "fd227aca-8361-43ea-8ecc-1d27d910efc0"
      },
      "source": [
        "<a href=\"https://cognitiveclass.ai\"><img src=\"https://cf-courses-data.s3.us.cloud-object-storage.appdomain.cloud/IBMDeveloperSkillsNetwork-DL0101EN-SkillsNetwork/images/IDSN-logo.png\" width=\"400\"> </a>\n",
        "\n",
        "<h1 align=center><font size = 5>Regression Models with Keras</font></h1>\n"
      ]
    },
    {
      "cell_type": "markdown",
      "metadata": {
        "id": "7641c6d4-2f72-477c-b304-814e14212e44"
      },
      "source": [
        "## Introduction\n"
      ]
    },
    {
      "cell_type": "markdown",
      "metadata": {
        "id": "9593cb53-0b1d-479f-84c2-f76c8e84fdce"
      },
      "source": [
        "As we discussed in the videos, despite the popularity of more powerful libraries such as PyToch and TensorFlow, they are not easy to use and have a steep learning curve. So, for people who are just starting to learn deep learning, there is no better library to use other than the Keras library.\n",
        "\n",
        "Keras is a high-level API for building deep learning models. It has gained favor for its ease of use and syntactic simplicity facilitating fast development. As you will see in this lab and the other labs in this course, building a very complex deep learning network can be achieved with Keras with only few lines of code. You will appreciate Keras even more, once you learn how to build deep models using PyTorch and TensorFlow in the other courses.\n",
        "\n",
        "So, in this lab, you will learn how to use the Keras library to build a regression model.\n"
      ]
    },
    {
      "cell_type": "markdown",
      "metadata": {
        "id": "ddfb4c62-aa2a-4387-acc9-401cf1372bab"
      },
      "source": [
        "<h2>Regression Models with Keras</h2>\n",
        "\n",
        "<h3>Objective for this Notebook<h3>    \n",
        "<h5> 1. How to use the Keras library to build a regression model.</h5>\n",
        "<h5> 2. Download and Clean dataset </h5>\n",
        "<h5> 3. Build a Neural Network </h5>\n",
        "<h5> 4. Train and Test the Network. </h5>     \n",
        "\n"
      ]
    },
    {
      "cell_type": "markdown",
      "metadata": {
        "id": "4ebe5ef5-e658-44dd-bc8e-80a4dc4559a8"
      },
      "source": [
        "## Table of Contents\n",
        "\n",
        "<div class=\"alert alert-block alert-info\" style=\"margin-top: 20px\">\n",
        "\n",
        "<font size = 3>\n",
        "    \n",
        "1. <a href=\"#item31\">Download and Clean Dataset</a>  \n",
        "2. <a href=\"#item32\">Import Keras</a>  \n",
        "3. <a href=\"#item33\">Build a Neural Network</a>  \n",
        "4. <a href=\"#item34\">Train and Test the Network</a>  \n",
        "\n",
        "</font>\n",
        "</div>\n"
      ]
    },
    {
      "cell_type": "markdown",
      "metadata": {
        "id": "7614d5d6-cb06-4da0-bd6d-7c6d05fbfdee"
      },
      "source": [
        "<a id=\"item31\"></a>\n"
      ]
    },
    {
      "cell_type": "markdown",
      "metadata": {
        "id": "59c3bc9e-4fdf-4ffe-aaf1-27e99ba2bcfe"
      },
      "source": [
        "## Download and Clean Dataset\n"
      ]
    },
    {
      "cell_type": "markdown",
      "metadata": {
        "id": "28e7cb02-0eba-4e08-b411-dd2c08c5c894"
      },
      "source": [
        "Let's start by importing the <em>pandas</em> and the Numpy libraries.\n"
      ]
    },
    {
      "cell_type": "code",
      "metadata": {
        "id": "6474aa10-7c6b-4366-9e13-1b093d14340f"
      },
      "outputs": [],
      "source": [
        "# All Libraries required for this lab are listed below. The libraries pre-installed on Skills Network Labs are commented.\n",
        "# If you run this notebook on a different environment, e.g. your desktop, you may need to uncomment and install certain libraries.\n",
        "\n",
        "#!pip install numpy==1.21.4\n",
        "#!pip install pandas==1.3.4\n",
        "#!pip install keras==2.1.6"
      ],
      "execution_count": null
    },
    {
      "cell_type": "code",
      "metadata": {
        "id": "ce2c677e-9239-460e-bb41-8003063ce9f7"
      },
      "outputs": [],
      "source": [
        "import pandas as pd\n",
        "import numpy as np\n",
        "\n",
        "import warnings\n",
        "warnings.simplefilter('ignore', FutureWarning)"
      ],
      "execution_count": null
    },
    {
      "cell_type": "markdown",
      "metadata": {
        "id": "63ae549e-5ccc-49ce-945d-fc3002294a1b"
      },
      "source": [
        "We will be playing around with the same dataset that we used in the videos.\n",
        "\n",
        "<strong>The dataset is about the compressive strength of different samples of concrete based on the volumes of the different ingredients that were used to make them. Ingredients include:</strong>\n",
        "\n",
        "<strong>1. Cement</strong>\n",
        "\n",
        "<strong>2. Blast Furnace Slag</strong>\n",
        "\n",
        "<strong>3. Fly Ash</strong>\n",
        "\n",
        "<strong>4. Water</strong>\n",
        "\n",
        "<strong>5. Superplasticizer</strong>\n",
        "\n",
        "<strong>6. Coarse Aggregate</strong>\n",
        "\n",
        "<strong>7. Fine Aggregate</strong>\n"
      ]
    },
    {
      "cell_type": "markdown",
      "metadata": {
        "id": "296a7166-be57-4ceb-a006-3d8e5950680c"
      },
      "source": [
        "Let's download the data and read it into a <em>pandas</em> dataframe.\n"
      ]
    },
    {
      "cell_type": "code",
      "metadata": {
        "id": "4b61897d-4ec5-4bf6-a93d-d35c2350a565"
      },
      "outputs": [],
      "source": [
        "concrete_data = pd.read_csv('https://s3-api.us-geo.objectstorage.softlayer.net/cf-courses-data/CognitiveClass/DL0101EN/labs/data/concrete_data.csv')\n",
        "concrete_data.head()"
      ],
      "execution_count": null
    },
    {
      "cell_type": "markdown",
      "metadata": {
        "id": "706bdfc7-091a-46cd-8f58-a4d3c6deebda"
      },
      "source": [
        "So the first concrete sample has 540 cubic meter of cement, 0 cubic meter of blast furnace slag, 0 cubic meter of fly ash, 162 cubic meter of water, 2.5 cubic meter of superplaticizer, 1040 cubic meter of coarse aggregate, 676 cubic meter of fine aggregate. Such a concrete mix which is 28 days old, has a compressive strength of 79.99 MPa.\n"
      ]
    },
    {
      "cell_type": "markdown",
      "metadata": {
        "id": "096653f3-f3cd-4501-a0ec-e97bcfd87c2e"
      },
      "source": [
        "#### Let's check how many data points we have.\n"
      ]
    },
    {
      "cell_type": "code",
      "metadata": {
        "id": "407d8ca8-f344-4b12-8693-25f771c9bc49"
      },
      "outputs": [],
      "source": [
        "concrete_data.shape"
      ],
      "execution_count": null
    },
    {
      "cell_type": "markdown",
      "metadata": {
        "id": "869866b2-cdb5-44bb-8839-8f3040023e37"
      },
      "source": [
        "So, there are approximately 1000 samples to train our model on. Because of the few samples, we have to be careful not to overfit the training data.\n"
      ]
    },
    {
      "cell_type": "markdown",
      "metadata": {
        "id": "ed390578-bfe6-4aeb-855e-c9430b30d3f9"
      },
      "source": [
        "Let's check the dataset for any missing values.\n"
      ]
    },
    {
      "cell_type": "code",
      "metadata": {
        "id": "a3895d7f-f484-452e-af11-2d02348e7ead"
      },
      "outputs": [],
      "source": [
        "concrete_data.describe()"
      ],
      "execution_count": null
    },
    {
      "cell_type": "code",
      "metadata": {
        "id": "a58da867-e4c0-47a8-8602-fa4f79e87a08"
      },
      "outputs": [],
      "source": [
        "concrete_data.isnull().sum()"
      ],
      "execution_count": null
    },
    {
      "cell_type": "markdown",
      "metadata": {
        "id": "28ddc0de-4d50-46f6-abdd-7bcefef73cb6"
      },
      "source": [
        "The data looks very clean and is ready to be used to build our model.\n"
      ]
    },
    {
      "cell_type": "markdown",
      "metadata": {
        "id": "3b687177-09f6-4a4c-b33f-941f3384f531"
      },
      "source": [
        "#### Split data into predictors and target\n"
      ]
    },
    {
      "cell_type": "markdown",
      "metadata": {
        "id": "b3ad8be4-a0ce-4c7d-b10a-fcfa92dc1988"
      },
      "source": [
        "The target variable in this problem is the concrete sample strength. Therefore, our predictors will be all the other columns.\n"
      ]
    },
    {
      "cell_type": "code",
      "metadata": {
        "id": "d7e34bc0-4049-47ed-9d7c-7165c6ed0b44"
      },
      "outputs": [],
      "source": [
        "concrete_data_columns = concrete_data.columns\n",
        "\n",
        "predictors = concrete_data[concrete_data_columns[concrete_data_columns != 'Strength']] # all columns except Strength\n",
        "target = concrete_data['Strength'] # Strength column"
      ],
      "execution_count": null
    },
    {
      "cell_type": "markdown",
      "metadata": {
        "id": "6139e9ba-dc76-4316-965b-d3c0ce51085b"
      },
      "source": [
        "<a id=\"item2\"></a>\n"
      ]
    },
    {
      "cell_type": "markdown",
      "metadata": {
        "id": "7173a729-3550-4995-8b98-9a07778c3049"
      },
      "source": [
        "Let's do a quick sanity check of the predictors and the target dataframes.\n"
      ]
    },
    {
      "cell_type": "code",
      "metadata": {
        "id": "f9a88559-09f4-43d0-9845-798f805f1119"
      },
      "outputs": [],
      "source": [
        "predictors.head()"
      ],
      "execution_count": null
    },
    {
      "cell_type": "code",
      "metadata": {
        "id": "17fe5f47-6136-4a09-b558-f3705c9aeb1b"
      },
      "outputs": [],
      "source": [
        "target.head()"
      ],
      "execution_count": null
    },
    {
      "cell_type": "markdown",
      "metadata": {
        "id": "a2641570-5693-4ac8-9887-582da313d466"
      },
      "source": [
        "Finally, the last step is to normalize the data by substracting the mean and dividing by the standard deviation.\n"
      ]
    },
    {
      "cell_type": "code",
      "metadata": {
        "id": "82807e29-a97d-4f2e-8c05-552c149990db"
      },
      "outputs": [],
      "source": [
        "predictors_norm = (predictors - predictors.mean()) / predictors.std()\n",
        "predictors_norm.head()"
      ],
      "execution_count": null
    },
    {
      "cell_type": "markdown",
      "metadata": {
        "id": "02b08228-7a39-4a4c-bae2-87d0c334a3f6"
      },
      "source": [
        "Let's save the number of predictors to *n_cols* since we will need this number when building our network.\n"
      ]
    },
    {
      "cell_type": "code",
      "metadata": {
        "id": "6d27243a-845f-46e5-beb6-6dc13d5ef396"
      },
      "outputs": [],
      "source": [
        "n_cols = predictors_norm.shape[1] # number of predictors"
      ],
      "execution_count": null
    },
    {
      "cell_type": "markdown",
      "metadata": {
        "id": "bb60e339-2b2b-4370-8919-bfb5f5bad767"
      },
      "source": [
        "<a id=\"item1\"></a>\n"
      ]
    },
    {
      "cell_type": "markdown",
      "metadata": {
        "id": "23b91b74-1cac-4746-9a87-b7cf6e39126e"
      },
      "source": [
        "<a id='item32'></a>\n"
      ]
    },
    {
      "cell_type": "markdown",
      "metadata": {
        "id": "c9929027-4615-476f-a668-a0f547ae1006"
      },
      "source": [
        "## Import Keras\n"
      ]
    },
    {
      "cell_type": "markdown",
      "metadata": {
        "id": "588a2d81-cbb5-497e-bba4-b040e72ff483"
      },
      "source": [
        "Recall from the videos that Keras normally runs on top of a low-level library such as TensorFlow. This means that to be able to use the Keras library, you will have to install TensorFlow first and when you import the Keras library, it will be explicitly displayed what backend was used to install the Keras library. In CC Labs, we used TensorFlow as the backend to install Keras, so it should clearly print that when we import Keras.\n"
      ]
    },
    {
      "cell_type": "markdown",
      "metadata": {
        "id": "9fb19682-655b-40e8-afd4-d67cf643c321"
      },
      "source": [
        "#### Let's go ahead and import the Keras library\n"
      ]
    },
    {
      "cell_type": "code",
      "metadata": {
        "id": "b5c62820-c6c3-44fc-ae0c-28684be4e40b"
      },
      "outputs": [],
      "source": [
        "import keras"
      ],
      "execution_count": null
    },
    {
      "cell_type": "markdown",
      "metadata": {
        "id": "982ee5d4-c918-44cf-8ac4-bf68c080a979"
      },
      "source": [
        "As you can see, the TensorFlow backend was used to install the Keras library.\n"
      ]
    },
    {
      "cell_type": "markdown",
      "metadata": {
        "id": "ff242bc9-8e7a-44ef-85da-85a742dbfc2d"
      },
      "source": [
        "Let's import the rest of the packages from the Keras library that we will need to build our regressoin model.\n"
      ]
    },
    {
      "cell_type": "code",
      "metadata": {
        "id": "40129e19-105f-4a6e-a560-496b68f7cbb7"
      },
      "outputs": [],
      "source": [
        "from keras.models import Sequential\n",
        "from keras.layers import Dense"
      ],
      "execution_count": null
    },
    {
      "cell_type": "markdown",
      "metadata": {
        "id": "cce1d155-0840-49d4-b1b9-f7e44f23c045"
      },
      "source": [
        "<a id='item33'></a>\n"
      ]
    },
    {
      "cell_type": "markdown",
      "metadata": {
        "id": "a4639365-bfab-41c6-aa8d-e5b6fd205f09"
      },
      "source": [
        "## Build a Neural Network\n"
      ]
    },
    {
      "cell_type": "markdown",
      "metadata": {
        "id": "6740b923-eaae-4576-945e-2da8559fd447"
      },
      "source": [
        "Let's define a function that defines our regression model for us so that we can conveniently call it to create our model.\n"
      ]
    },
    {
      "cell_type": "code",
      "metadata": {
        "id": "435477bf-6e18-49f1-aa37-bc8f3a3c4d9e"
      },
      "outputs": [],
      "source": [
        "# define regression model\n",
        "def regression_model():\n",
        "    # create model\n",
        "    model = Sequential()\n",
        "    model.add(Dense(50, activation='relu', input_shape=(n_cols,)))\n",
        "    model.add(Dense(50, activation='relu'))\n",
        "    model.add(Dense(1))\n",
        "\n",
        "    # compile model\n",
        "    model.compile(optimizer='adam', loss='mean_squared_error')\n",
        "    return model"
      ],
      "execution_count": null
    },
    {
      "cell_type": "markdown",
      "metadata": {
        "id": "90c19b9e-1000-4d77-bdaf-fa5b3374c754"
      },
      "source": [
        "The above function create a model that has two hidden layers, each of 50 hidden units.\n"
      ]
    },
    {
      "cell_type": "markdown",
      "metadata": {
        "id": "a0bc2e0e-60be-452d-a47b-f017ddc2e27e"
      },
      "source": [
        "<a id=\"item4\"></a>\n"
      ]
    },
    {
      "cell_type": "markdown",
      "metadata": {
        "id": "8b1440a2-40fd-492e-bd3a-768665137325"
      },
      "source": [
        "<a id='item34'></a>\n"
      ]
    },
    {
      "cell_type": "markdown",
      "metadata": {
        "id": "6d818d59-a527-45d4-ae4b-3426b21475ad"
      },
      "source": [
        "## Train and Test the Network\n"
      ]
    },
    {
      "cell_type": "markdown",
      "metadata": {
        "id": "6877952a-9cff-4e91-8a8a-eaf75e4bf198"
      },
      "source": [
        "Let's call the function now to create our model.\n"
      ]
    },
    {
      "cell_type": "code",
      "metadata": {
        "id": "02b2bfdf-c12c-4148-ab34-f5f83f950568"
      },
      "outputs": [],
      "source": [
        "# build the model\n",
        "model = regression_model()"
      ],
      "execution_count": null
    },
    {
      "cell_type": "markdown",
      "metadata": {
        "id": "08b8f32c-e879-4cc7-9504-82996b9ab84f"
      },
      "source": [
        "Next, we will train and test the model at the same time using the *fit* method. We will leave out 30% of the data for validation and we will train the model for 100 epochs.\n"
      ]
    },
    {
      "cell_type": "code",
      "metadata": {
        "id": "99d48a19-e989-4759-902e-036b49f840d4"
      },
      "outputs": [],
      "source": [
        "# fit the model\n",
        "model.fit(predictors_norm, target, validation_split=0.3, epochs=100, verbose=2)"
      ],
      "execution_count": null
    },
    {
      "cell_type": "markdown",
      "metadata": {
        "id": "680dc082-9bc2-46c4-8c76-f5cceb0eb84a"
      },
      "source": [
        "<strong>You can refer to this [link](https://keras.io/models/sequential/) to learn about other functions that you can use for prediction or evaluation.</strong>\n"
      ]
    },
    {
      "cell_type": "markdown",
      "metadata": {
        "id": "677f1102-75e3-4457-9ab4-9f2a2a3acfa4"
      },
      "source": [
        "Feel free to vary the following and note what impact each change has on the model's performance:\n",
        "\n",
        "1. Increase or decreate number of neurons in hidden layers\n",
        "2. Add more hidden layers\n",
        "3. Increase number of epochs\n"
      ]
    },
    {
      "cell_type": "markdown",
      "metadata": {
        "id": "4fd87bbf-ebb6-4d05-9043-438ff41ce73b"
      },
      "source": [
        "### Thank you for completing this lab!\n",
        "\n",
        "This notebook was created by [Alex Aklson](https://www.linkedin.com/in/aklson/). I hope you found this lab interesting and educational. Feel free to contact me if you have any questions!\n"
      ]
    },
    {
      "cell_type": "markdown",
      "metadata": {
        "id": "2c11f063-2ed4-4929-92ba-e9b88b59d1f1"
      },
      "source": [
        "\n",
        "## Change Log\n",
        "\n",
        "|  Date (YYYY-MM-DD) |  Version | Changed By  |  Change Description |\n",
        "|---|---|---|---|\n",
        "| 2020-09-21  | 2.0  | Srishti  |  Migrated Lab to Markdown and added to course repo in GitLab |\n",
        "\n",
        "\n",
        "\n",
        "<hr>\n",
        "\n",
        "## <h3 align=\"center\"> © IBM Corporation 2020. All rights reserved. <h3/>\n"
      ]
    },
    {
      "cell_type": "markdown",
      "metadata": {
        "id": "9f42dc1c-57e7-4292-abe1-71f85dfb4028"
      },
      "source": [
        "This notebook is part of a course on **Coursera** called *Introduction to Deep Learning & Neural Networks with Keras*. If you accessed this notebook outside the course, you can take this course online by clicking [here](https://cocl.us/DL0101EN_Coursera_Week3_LAB1).\n"
      ]
    },
    {
      "cell_type": "markdown",
      "metadata": {
        "id": "b16509c4-31df-4a6c-87f8-5da6e2037169"
      },
      "source": [
        "<hr>\n",
        "\n",
        "Copyright &copy; 2019 [IBM Developer Skills Network](https://cognitiveclass.ai/?utm_source=bducopyrightlink&utm_medium=dswb&utm_campaign=bdu). This notebook and its source code are released under the terms of the [MIT License](https://bigdatauniversity.com/mit-license/).\n"
      ]
    }
  ],
  "metadata": {
    "kernelspec": {
      "display_name": "Python",
      "language": "python",
      "name": "conda-env-python-py"
    },
    "language_info": {
      "name": "python",
      "version": "3.7.12",
      "mimetype": "text/x-python",
      "codemirror_mode": {
        "name": "ipython",
        "version": 3
      },
      "pygments_lexer": "ipython3",
      "nbconvert_exporter": "python",
      "file_extension": ".py"
    },
    "prev_pub_hash": "83687881d337faa1ef19930a5252431ac8ebd74923546c921f47fecec1b0d333",
    "colab": {
      "provenance": []
    }
  },
  "nbformat": 4,
  "nbformat_minor": 0
}