{
  "cells": [
    {
      "cell_type": "markdown",
      "metadata": {
        "id": "6e4ef502-3094-444b-b682-5bd716ae8035"
      },
      "source": [
        "<p style=\"text-align:center\">\n",
        "    <a href=\"https://skills.network\" target=\"_blank\">\n",
        "    <img src=\"https://cf-courses-data.s3.us.cloud-object-storage.appdomain.cloud/assets/logos/SN_web_lightmode.png\" width=\"200\" alt=\"Skills Network Logo\">\n",
        "    </a>\n",
        "</p>\n"
      ]
    },
    {
      "cell_type": "markdown",
      "metadata": {
        "id": "f995968e-7583-499c-8835-3038e781b9de"
      },
      "source": [
        "<h2>Objective</h2><ul><li> How to make a prediction using multiple samples.</li></ul>\n"
      ]
    },
    {
      "cell_type": "markdown",
      "metadata": {
        "id": "707cc99c-04ec-4105-a7df-81b78d92f28f"
      },
      "source": [
        "\n",
        "# Table of Contents\n",
        "In this lab, we will  review how to make a prediction for Linear Regression with Multiple Output.\n",
        "\n",
        "<div class=\"alert alert-block alert-info\" style=\"margin-top: 20px\">\n",
        "\n",
        "<li><a href=\"#ref1\">Class Linear </a></li>\n",
        "\n",
        "<br>\n",
        "<p></p>\n",
        "Estimated Time Needed: <strong>15 min</strong>\n",
        "</div>\n",
        "\n",
        "<hr>\n"
      ]
    },
    {
      "cell_type": "markdown",
      "metadata": {
        "id": "abb55d14-09ca-45aa-8a31-9e4841e97e59"
      },
      "source": [
        "<a id=\"ref1\"></a>\n",
        "<a name=\"ref1\"><h2 align=center>Class Linear  </h2></a>\n"
      ]
    },
    {
      "cell_type": "code",
      "metadata": {
        "id": "3f52593e-a6fd-405d-b3ff-6e90cabc3dd4"
      },
      "outputs": [],
      "source": [
        "from torch import nn\n",
        "import torch"
      ],
      "execution_count": null
    },
    {
      "cell_type": "markdown",
      "metadata": {
        "id": "461de718-2eb7-416f-8666-1778e7deccf9"
      },
      "source": [
        "Set the random seed:\n"
      ]
    },
    {
      "cell_type": "code",
      "metadata": {
        "id": "3a8debda-e781-4e27-ab98-a2e1e428638c"
      },
      "outputs": [],
      "source": [
        "torch.manual_seed(1)"
      ],
      "execution_count": null
    },
    {
      "cell_type": "markdown",
      "metadata": {
        "id": "1dacfc01-01c7-452b-84a3-4cff26928be4"
      },
      "source": [
        "Set the random seed:\n"
      ]
    },
    {
      "cell_type": "code",
      "metadata": {
        "id": "c888e507-77e1-45a2-9bf0-80c621aa8291"
      },
      "outputs": [],
      "source": [
        "class linear_regression(nn.Module):\n",
        "    def __init__(self,input_size,output_size):\n",
        "        super(linear_regression,self).__init__()\n",
        "        self.linear=nn.Linear(input_size,output_size)\n",
        "    def forward(self,x):\n",
        "        yhat=self.linear(x)\n",
        "        return yhat"
      ],
      "execution_count": null
    },
    {
      "cell_type": "markdown",
      "metadata": {
        "id": "41fd43f5-1eb1-4c0e-95f1-3cb02be0fe8f"
      },
      "source": [
        "create a linear regression  object, as our input and output will be two we set the parameters accordingly\n"
      ]
    },
    {
      "cell_type": "code",
      "metadata": {
        "id": "38689dc1-db45-4367-a389-99328cb34911"
      },
      "outputs": [],
      "source": [
        "model=linear_regression(1,10)\n",
        "model(torch.tensor([1.0]))"
      ],
      "execution_count": null
    },
    {
      "cell_type": "markdown",
      "metadata": {
        "id": "e448dae0-e4fb-4474-b415-a8021b20286a"
      },
      "source": [
        "we can use the diagram to represent the model or object\n"
      ]
    },
    {
      "cell_type": "markdown",
      "metadata": {
        "id": "11f258db-9265-4368-8df1-7f46b5674345"
      },
      "source": [
        "<img src=\"https://ibm.box.com/shared/static/icmwnxru7nytlhnq5x486rffea9ncpk7.png\" width=\"600,\" align=\"center\">\n"
      ]
    },
    {
      "cell_type": "markdown",
      "metadata": {
        "id": "cc32271d-b97d-471b-98f0-dac58bf9c3a4"
      },
      "source": [
        "we can see the parameters\n"
      ]
    },
    {
      "cell_type": "code",
      "metadata": {
        "id": "c24baa78-fb25-447e-bbe9-ddca2a373a9b"
      },
      "outputs": [],
      "source": [
        "list(model.parameters())"
      ],
      "execution_count": null
    },
    {
      "cell_type": "markdown",
      "metadata": {
        "id": "471aad96-781d-4d86-8cf5-ca4eb035ca08"
      },
      "source": [
        "we can create a tensor with two rows representing one sample of data\n"
      ]
    },
    {
      "cell_type": "code",
      "metadata": {
        "id": "4aee5787-4c1a-4c0d-9ef8-9958fdea8959"
      },
      "outputs": [],
      "source": [
        "x=torch.tensor([[1.0]])"
      ],
      "execution_count": null
    },
    {
      "cell_type": "markdown",
      "metadata": {
        "id": "51d85fe1-e311-4cc4-b933-bae00b7fdedb"
      },
      "source": [
        "we can make a prediction\n"
      ]
    },
    {
      "cell_type": "code",
      "metadata": {
        "id": "f89620ca-400a-418a-a100-08091e0614c1"
      },
      "outputs": [],
      "source": [
        "yhat=model(x)\n",
        "yhat"
      ],
      "execution_count": null
    },
    {
      "cell_type": "markdown",
      "metadata": {
        "id": "979c86f6-42da-47a9-9b4d-a9983a162d82"
      },
      "source": [
        "each row in the following tensor represents a different sample\n"
      ]
    },
    {
      "cell_type": "code",
      "metadata": {
        "id": "728bedc8-e980-49dc-baf8-ca027c543958"
      },
      "outputs": [],
      "source": [
        "X=torch.tensor([[1.0],[1.0],[3.0]])"
      ],
      "execution_count": null
    },
    {
      "cell_type": "markdown",
      "metadata": {
        "id": "64b8f4e8-f190-4152-beb0-c8e87ffde64b"
      },
      "source": [
        "we can make a prediction using multiple samples\n"
      ]
    },
    {
      "cell_type": "code",
      "metadata": {
        "id": "639d3c71-0022-4559-bae5-0b33c2a611fa"
      },
      "outputs": [],
      "source": [
        "Yhat=model(X)\n",
        "Yhat"
      ],
      "execution_count": null
    },
    {
      "cell_type": "markdown",
      "metadata": {
        "id": "25f8c41a-86ac-42ef-9c37-0e20e6aa584e"
      },
      "source": [
        "the following figure represents the operation, where the red and blue  represents the different parameters, and the different shades of green represent  different samples.\n"
      ]
    },
    {
      "cell_type": "markdown",
      "metadata": {
        "id": "a4e0fe77-6646-4273-bf76-37f2f378b385"
      },
      "source": [
        " <img src=\"https://ibm.box.com/shared/static/768cul6pj8hc93uh9ujpajihnp8xdukx.png\" width=\"600,\" align=\"center\">\n"
      ]
    },
    {
      "cell_type": "markdown",
      "metadata": {
        "id": "20982398-c9a7-4bd5-9515-00bfec0a4f43"
      },
      "source": [
        "\n",
        "<a href=\"https://dataplatform.cloud.ibm.com/registration/stepone?utm_source=skills_network&utm_content=in_lab_content_link&utm_id=Lab-IBMDeveloperSkillsNetwork-DL0110EN-SkillsNetwork&context=cpdaas&apps=data_science_experience%2Cwatson_machine_learning\"><img src=\"https://cf-courses-data.s3.us.cloud-object-storage.appdomain.cloud/IBMDeveloperSkillsNetwork-DL0110EN-SkillsNetwork/Template/module%201/images/Watson_Studio.png\"></a>\n"
      ]
    },
    {
      "cell_type": "markdown",
      "metadata": {
        "id": "6e96b9bf-60e6-4398-b5f1-e07c2fd3e246"
      },
      "source": [
        "# About the Authors:  \n",
        "\n",
        " [Joseph Santarcangelo]( https://www.linkedin.com/in/joseph-s-50398b136/) has a PhD in Electrical Engineering, his research focused on using machine learning, signal processing, and computer vision to determine how videos impact human cognition. Joseph has been working for IBM since he completed his PhD.\n",
        "\n",
        "Other contributors: [Michelle Carey](  https://www.linkedin.com/in/michelleccarey/)\n"
      ]
    },
    {
      "cell_type": "markdown",
      "metadata": {
        "id": "f91e642c-7c18-49c7-8753-705582da58d6"
      },
      "source": [
        "<!--\n",
        "## Change Log\n",
        "\n",
        "|  Date (YYYY-MM-DD) |  Version | Changed By  |  Change Description |\n",
        "|---|---|---|---|\n",
        "| 2020-09-23  | 2.0  | Shubham  |  Migrated Lab to Markdown and added to course repo in GitLab |\n",
        "\n",
        "-->\n"
      ]
    },
    {
      "cell_type": "markdown",
      "metadata": {
        "id": "33780265-39d6-46c2-a71f-ce370739da2f"
      },
      "source": [
        "## <h3 align=\"center\"> &#169; IBM Corporation. All rights reserved. <h3/>\n"
      ]
    }
  ],
  "metadata": {
    "kernelspec": {
      "display_name": "Python",
      "language": "python",
      "name": "conda-env-python-py"
    },
    "language_info": {
      "name": "python",
      "version": "3.7.12",
      "mimetype": "text/x-python",
      "codemirror_mode": {
        "name": "ipython",
        "version": 3
      },
      "pygments_lexer": "ipython3",
      "nbconvert_exporter": "python",
      "file_extension": ".py"
    },
    "prev_pub_hash": "8d1a9b2d27022911873bff4d0855b197315440af134a86452dc2adecc5197eaf",
    "colab": {
      "provenance": []
    }
  },
  "nbformat": 4,
  "nbformat_minor": 0
}