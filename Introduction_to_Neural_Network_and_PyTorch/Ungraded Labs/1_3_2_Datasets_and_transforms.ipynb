{
  "cells": [
    {
      "cell_type": "markdown",
      "metadata": {
        "id": "e2081385-1902-4d24-8efa-702ddfad6232"
      },
      "source": [
        "<p style=\"text-align:center\">\n",
        "    <a href=\"https://skills.network\" target=\"_blank\">\n",
        "    <img src=\"https://cf-courses-data.s3.us.cloud-object-storage.appdomain.cloud/assets/logos/SN_web_lightmode.png\" width=\"200\" alt=\"Skills Network Logo\">\n",
        "    </a>\n",
        "</p>\n"
      ]
    },
    {
      "cell_type": "markdown",
      "metadata": {
        "id": "36022f85-c4e3-4922-94e8-8cc0c88a4eef"
      },
      "source": [
        "<h1>Image Datasets and Transforms</h1>\n"
      ]
    },
    {
      "cell_type": "markdown",
      "metadata": {
        "id": "37ef6c7f-f5b5-48c3-a01a-51949ad77d22"
      },
      "source": [
        "<h2>Objective</h2><ul><li> How to build a image dataset object.</li><li> How to perform pre-build transforms from Torchvision Transforms to the dataset. .</li></ul>\n"
      ]
    },
    {
      "cell_type": "markdown",
      "metadata": {
        "id": "167b06b1-ba75-430a-9ace-6d2ce9f5311c"
      },
      "source": [
        "<h2>Table of Contents</h2>\n",
        "<p>In this lab, you will build a dataset objects for images; many of the processes can be applied to a larger dataset. Then you will apply pre-build transforms from Torchvision Transforms to that dataset.</p>\n",
        "<ul>\n",
        "    <li><a href=\"#auxiliary\"> Auxiliary Functions </a></li>\n",
        "    <li><a href=\"#Dataset\"> Datasets</a></li>\n",
        "    <li><a href=\"#Torchvision\">Torchvision Transforms</a></li>\n",
        "</ul>\n",
        "<p>Estimated Time Needed: <strong>25 min</strong></p>\n",
        "\n",
        "<hr>\n"
      ]
    },
    {
      "cell_type": "markdown",
      "metadata": {
        "id": "ecbca6a1-e1dd-49a9-ba34-575277f866ee"
      },
      "source": [
        "<h2>Preparation</h2>\n"
      ]
    },
    {
      "cell_type": "markdown",
      "metadata": {
        "id": "a63ad1a4-640d-43f4-979c-2a60e66220a2"
      },
      "source": [
        "Download the dataset and unzip the files in your data directory, **to download faster this dataset has only 100 samples**:\n"
      ]
    },
    {
      "cell_type": "code",
      "metadata": {
        "id": "42edd96f-6bd5-47db-b33e-34c35552d879"
      },
      "outputs": [],
      "source": [
        "! wget https://cf-courses-data.s3.us.cloud-object-storage.appdomain.cloud/IBMDeveloperSkillsNetwork-DL0110EN-SkillsNetwork/labs/Week1/data/img.tar.gz -P /resources/data\n"
      ],
      "execution_count": null
    },
    {
      "cell_type": "code",
      "metadata": {
        "id": "5302a7e8-3bbd-42cb-b0f2-c54aae6741a5"
      },
      "outputs": [],
      "source": [
        "!tar -xf /resources/data/img.tar.gz"
      ],
      "execution_count": null
    },
    {
      "cell_type": "code",
      "metadata": {
        "id": "456f5f43-7c69-4abb-abe8-21d52beab5a3"
      },
      "outputs": [],
      "source": [
        "!wget https://cf-courses-data.s3.us.cloud-object-storage.appdomain.cloud/IBMDeveloperSkillsNetwork-DL0110EN-SkillsNetwork/labs/Week1/data/index.csv"
      ],
      "execution_count": null
    },
    {
      "cell_type": "markdown",
      "metadata": {
        "id": "e9e6b575-b7f5-4ed6-baa0-2779f0743ddf"
      },
      "source": [
        "We will use this function in the lab:\n"
      ]
    },
    {
      "cell_type": "code",
      "metadata": {
        "id": "584d75d4-17ba-47a7-a587-72ddb91b3823"
      },
      "outputs": [],
      "source": [
        "def show_data(data_sample, shape = (28, 28)):\n",
        "    plt.imshow(data_sample[0].numpy().reshape(shape), cmap='gray')\n",
        "    plt.title('y = ' + data_sample[1])"
      ],
      "execution_count": null
    },
    {
      "cell_type": "markdown",
      "metadata": {
        "id": "b5cccd97-5d5e-4bef-a6f1-2f6631a26aab"
      },
      "source": [
        "The following are the libraries we are going to use for this lab. The <code>torch.manual_seed()</code> is for forcing the random function to give the same number every time we try to recompile it.\n"
      ]
    },
    {
      "cell_type": "code",
      "metadata": {
        "id": "11264a5e-487c-49e3-8a51-92ddb1e67aa0"
      },
      "outputs": [],
      "source": [
        "# These are the libraries will be used for this lab.\n",
        "\n",
        "import torch\n",
        "import matplotlib.pylab as plt\n",
        "import numpy as np\n",
        "from torch.utils.data import Dataset, DataLoader\n",
        "torch.manual_seed(0)"
      ],
      "execution_count": null
    },
    {
      "cell_type": "code",
      "metadata": {
        "id": "b187d7ea-55df-454f-ac7c-5e244def4fab"
      },
      "outputs": [],
      "source": [
        "from matplotlib.pyplot import imshow\n",
        "import matplotlib.pylab as plt\n",
        "from PIL import Image\n",
        "import pandas as pd\n",
        "import os"
      ],
      "execution_count": null
    },
    {
      "cell_type": "markdown",
      "metadata": {
        "id": "c225467a-e22d-4bf4-8158-931cb6674075"
      },
      "source": [
        "<!--Empty Space for separating topics-->\n"
      ]
    },
    {
      "cell_type": "markdown",
      "metadata": {
        "id": "1073e62f-3024-4d0c-aaee-857a8935d67d"
      },
      "source": [
        "<h2 id=\"auxiliary\">Auxiliary Functions</h2>\n"
      ]
    },
    {
      "cell_type": "markdown",
      "metadata": {
        "id": "ca17499a-a753-443c-907d-8ddf60905e6a"
      },
      "source": [
        "You will use the following function as components of a dataset object, in this section, you will review each of the components independently.\n"
      ]
    },
    {
      "cell_type": "markdown",
      "metadata": {
        "id": "e438f2b9-7ce2-464b-bc17-46eb9e8dce42"
      },
      "source": [
        " The path to the csv file with the labels for each image.\n"
      ]
    },
    {
      "cell_type": "code",
      "metadata": {
        "id": "fbc14863-b98c-4356-85c7-82f49f3db1d6"
      },
      "outputs": [],
      "source": [
        "# Read CSV file from the URL and print out the first five samples\n",
        "directory=\"\"\n",
        "csv_file ='index.csv'\n",
        "csv_path=os.path.join(directory,csv_file)"
      ],
      "execution_count": null
    },
    {
      "cell_type": "markdown",
      "metadata": {
        "id": "a1e8a4ad-09f3-4bc4-b60a-39f0343fea5c"
      },
      "source": [
        "You can load the CSV file and convert it into a dataframe , using the Pandas function <code>read_csv()</code> . You can view the dataframe using the method head.\n"
      ]
    },
    {
      "cell_type": "code",
      "metadata": {
        "id": "b3895066-a9a5-4c6b-9f27-1de6f2f94700"
      },
      "outputs": [],
      "source": [
        "data_name = pd.read_csv(csv_path)\n",
        "data_name.head()"
      ],
      "execution_count": null
    },
    {
      "cell_type": "markdown",
      "metadata": {
        "id": "b88d9e6b-e69e-4600-90fe-f47d626e7830"
      },
      "source": [
        "The first column of the dataframe corresponds to the type of clothing. The second column is the name of the image file corresponding to the clothing. You can obtain the path of the first file by using the method  <code> <i>DATAFRAME</i>.iloc[0, 1]</code>. The first argument corresponds to the sample number, and the second input corresponds to the column index.\n"
      ]
    },
    {
      "cell_type": "code",
      "metadata": {
        "id": "07ca8be6-3a15-4a76-9549-784decdc3fae"
      },
      "outputs": [],
      "source": [
        "# Get the value on location row 0, column 1 (Notice that index starts at 0)\n",
        "#rember this dataset has only 100 samples to make the download faster\n",
        "print('File name:', data_name.iloc[0, 1])"
      ],
      "execution_count": null
    },
    {
      "cell_type": "markdown",
      "metadata": {
        "id": "3cb189f9-f6d9-44ee-a2ce-ea898bb61228"
      },
      "source": [
        "As the class of the sample is in the first column, you can also obtain the class value as follows.\n"
      ]
    },
    {
      "cell_type": "code",
      "metadata": {
        "id": "8e1c6e4a-bf54-4a4d-90b9-91c5ceac6813"
      },
      "outputs": [],
      "source": [
        "# Get the value on location row 0, column 0 (Notice that index starts at 0.)\n",
        "\n",
        "print('y:', data_name.iloc[0, 0])"
      ],
      "execution_count": null
    },
    {
      "cell_type": "markdown",
      "metadata": {
        "id": "608b2b20-9f73-4ce4-82c9-ce0e38ee56bc"
      },
      "source": [
        "Similarly, You can obtain the file name of the second image file and class type:\n"
      ]
    },
    {
      "cell_type": "code",
      "metadata": {
        "id": "a3fb0ab7-691d-44b8-969b-8b342a74ec35"
      },
      "outputs": [],
      "source": [
        "# Print out the file name and the class number of the element on row 1 (the second row)\n",
        "\n",
        "print('File name:', data_name.iloc[1, 1])\n",
        "print('class or y:', data_name.iloc[1, 0])"
      ],
      "execution_count": null
    },
    {
      "cell_type": "markdown",
      "metadata": {
        "id": "0649f70f-96f8-4831-9b6d-b411f766025d"
      },
      "source": [
        "The number of samples corresponds to the number of rows in a dataframe. You can obtain the number of rows using the following lines of code. This will correspond the data attribute <code>len</code>.\n"
      ]
    },
    {
      "cell_type": "code",
      "metadata": {
        "id": "f9e835f1-2864-473f-98f6-0c12cfd1f2a2"
      },
      "outputs": [],
      "source": [
        "# Print out the total number of rows in traing dataset\n",
        "\n",
        "print('The number of rows: ', data_name.shape[0])"
      ],
      "execution_count": null
    },
    {
      "cell_type": "markdown",
      "metadata": {
        "id": "0e003b4f-f4da-4b25-9f1b-00c46df2c8bd"
      },
      "source": [
        "<h2 id=\"load_image\">Load Image</h2>\n"
      ]
    },
    {
      "cell_type": "markdown",
      "metadata": {
        "id": "a5e46e60-1570-4445-9f1f-c24f95c5f060"
      },
      "source": [
        "To load the image, you need the directory and the image name. You can concatenate the variable <code>train_data_dir</code> with the name of the image stored in a Dataframe. Finally, you will store the result in the variable <code>image_name</code>\n"
      ]
    },
    {
      "cell_type": "code",
      "metadata": {
        "id": "fe848852-c18c-47f5-87ae-84c8d43975af"
      },
      "outputs": [],
      "source": [
        "# Combine the directory path with file name\n",
        "\n",
        "image_name =data_name.iloc[1, 1]\n",
        "image_name"
      ],
      "execution_count": null
    },
    {
      "cell_type": "markdown",
      "metadata": {
        "id": "2f590289-19c0-41bc-9b98-5189c1851e7a"
      },
      "source": [
        "we can find the image path:\n"
      ]
    },
    {
      "cell_type": "code",
      "metadata": {
        "id": "c58dee11-d04b-4ea9-b4a4-52a590f0f427"
      },
      "outputs": [],
      "source": [
        "image_path=os.path.join(directory,image_name)\n",
        "image_path"
      ],
      "execution_count": null
    },
    {
      "cell_type": "markdown",
      "metadata": {
        "id": "1777486e-88fb-4cb5-b7ab-2d0084ee10b6"
      },
      "source": [
        "You can then use the function <code>Image.open</code> to store the image to the variable <code>image</code> and display the image and class .\n"
      ]
    },
    {
      "cell_type": "code",
      "metadata": {
        "id": "a0e9993c-f204-498a-b64f-2296439146c3"
      },
      "outputs": [],
      "source": [
        "# Plot the second training image\n",
        "\n",
        "image = Image.open(image_path)\n",
        "plt.imshow(image,cmap='gray', vmin=0, vmax=255)\n",
        "plt.title(data_name.iloc[1, 0])\n",
        "plt.show()"
      ],
      "execution_count": null
    },
    {
      "cell_type": "markdown",
      "metadata": {
        "id": "7ac06638-c9e2-4ebe-a7f1-c7a3cd40e2fd"
      },
      "source": [
        "You can repeat the process for the 20th image.\n"
      ]
    },
    {
      "cell_type": "code",
      "metadata": {
        "id": "4f3df5f2-d7e5-4e75-bee2-b02cc77378dd"
      },
      "outputs": [],
      "source": [
        "# Plot the 20th image\n",
        "\n",
        "image_name = data_name.iloc[19, 1]\n",
        "image_path=os.path.join(directory,image_name)\n",
        "image = Image.open(image_path)\n",
        "plt.imshow(image,cmap='gray', vmin=0, vmax=255)\n",
        "plt.title(data_name.iloc[19, 0])\n",
        "plt.show()"
      ],
      "execution_count": null
    },
    {
      "cell_type": "markdown",
      "metadata": {
        "id": "625b2967-fd3b-4522-9e37-0c46b1877e38"
      },
      "source": [
        "<hr>\n"
      ]
    },
    {
      "cell_type": "markdown",
      "metadata": {
        "id": "8818a7e0-8de2-495f-b57f-eb9137d4fbe8"
      },
      "source": [
        " Create the dataset object.\n"
      ]
    },
    {
      "cell_type": "markdown",
      "metadata": {
        "id": "e800ea2c-0752-404d-a12f-294bcfbb6e15"
      },
      "source": [
        "<h2 id=\"data_class\">Create a Dataset Class</h2>\n"
      ]
    },
    {
      "cell_type": "markdown",
      "metadata": {
        "id": "4f5d840a-86c6-4b77-a7e3-3da8c199fea0"
      },
      "source": [
        "In this section, we will use the components in the last section to build a dataset class and then create an object.\n"
      ]
    },
    {
      "cell_type": "code",
      "metadata": {
        "id": "2a805b6a-a969-4cce-b26c-a186a907a52f"
      },
      "outputs": [],
      "source": [
        "# Create your own dataset object\n",
        "\n",
        "class Dataset(Dataset):\n",
        "\n",
        "    # Constructor\n",
        "    def __init__(self, csv_file, data_dir, transform=None):\n",
        "\n",
        "        # Image directory\n",
        "        self.data_dir=data_dir\n",
        "\n",
        "        # The transform is goint to be used on image\n",
        "        self.transform = transform\n",
        "        data_dircsv_file=os.path.join(self.data_dir,csv_file)\n",
        "        # Load the CSV file contians image info\n",
        "        self.data_name= pd.read_csv(data_dircsv_file)\n",
        "\n",
        "        # Number of images in dataset\n",
        "        self.len=self.data_name.shape[0]\n",
        "\n",
        "    # Get the length\n",
        "    def __len__(self):\n",
        "        return self.len\n",
        "\n",
        "    # Getter\n",
        "    def __getitem__(self, idx):\n",
        "\n",
        "        # Image file path\n",
        "        img_name=os.path.join(self.data_dir,self.data_name.iloc[idx, 1])\n",
        "        # Open image file\n",
        "        image = Image.open(img_name)\n",
        "\n",
        "        # The class label for the image\n",
        "        y = self.data_name.iloc[idx, 0]\n",
        "\n",
        "        # If there is any transform method, apply it onto the image\n",
        "        if self.transform:\n",
        "            image = self.transform(image)\n",
        "\n",
        "        return image, y"
      ],
      "execution_count": null
    },
    {
      "cell_type": "code",
      "metadata": {
        "id": "94778170-90cf-45ad-b28e-0499a6e870e6"
      },
      "outputs": [],
      "source": [
        "# Create the dataset objects\n",
        "\n",
        "dataset = Dataset(csv_file=csv_file, data_dir=directory)"
      ],
      "execution_count": null
    },
    {
      "cell_type": "markdown",
      "metadata": {
        "id": "89b62ea6-24fd-4491-afe2-778648e786f6"
      },
      "source": [
        "Each sample of the image and the class y is stored in a tuple <code> dataset[sample]</code> . The image is the first element in the tuple <code> dataset[sample][0]</code> the label or class is the second element in the tuple <code> dataset[sample][1]</code>. For example you can plot the first image and class.\n"
      ]
    },
    {
      "cell_type": "code",
      "metadata": {
        "id": "8e29dc05-625d-455e-bb0a-bedced7a89dd"
      },
      "outputs": [],
      "source": [
        "image=dataset[0][0]\n",
        "y=dataset[0][1]\n",
        "\n",
        "plt.imshow(image,cmap='gray', vmin=0, vmax=255)\n",
        "plt.title(y)\n",
        "plt.show()"
      ],
      "execution_count": null
    },
    {
      "cell_type": "code",
      "metadata": {
        "id": "83b265a2-9d00-4c76-9073-bfc84e391402"
      },
      "outputs": [],
      "source": [
        "y"
      ],
      "execution_count": null
    },
    {
      "cell_type": "markdown",
      "metadata": {
        "id": "94fe5f47-ea0f-4e4a-bce9-0b5d82fdd2f8"
      },
      "source": [
        "Similarly, you can plot the second image:\n"
      ]
    },
    {
      "cell_type": "code",
      "metadata": {
        "id": "3c581f07-e6ed-4866-9f14-4f4264b0ec3d"
      },
      "outputs": [],
      "source": [
        "image=dataset[9][0]\n",
        "y=dataset[9][1]\n",
        "\n",
        "plt.imshow(image,cmap='gray', vmin=0, vmax=255)\n",
        "plt.title(y)\n",
        "plt.show()"
      ],
      "execution_count": null
    },
    {
      "cell_type": "markdown",
      "metadata": {
        "id": "4cb67727-477b-4e4a-ae6c-a59cc1a11aea"
      },
      "source": [
        "<h2 id=\"Torchvision\"> Torchvision Transforms  </h2>\n"
      ]
    },
    {
      "cell_type": "markdown",
      "metadata": {
        "id": "f1e95b10-47b9-4c08-a1b5-a8781f461302"
      },
      "source": [
        "\n",
        "You will focus on the following libraries:\n"
      ]
    },
    {
      "cell_type": "code",
      "metadata": {
        "id": "f618aa56-3841-4a49-9588-818edb02373a"
      },
      "outputs": [],
      "source": [
        "import torchvision.transforms as transforms"
      ],
      "execution_count": null
    },
    {
      "cell_type": "markdown",
      "metadata": {
        "id": "9df112ba-c782-47ff-8742-b218c379400f"
      },
      "source": [
        "We can apply some image transform functions on the dataset object. The iamge can be cropped and converted to a tensor. We can use <code>transform.Compose</code> we learned from the previous lab to combine the two transform functions.\n"
      ]
    },
    {
      "cell_type": "code",
      "metadata": {
        "id": "582becdf-21df-444f-a360-c3089204b150"
      },
      "outputs": [],
      "source": [
        "# Combine two transforms: crop and convert to tensor. Apply the compose to MNIST dataset\n",
        "\n",
        "croptensor_data_transform = transforms.Compose([transforms.CenterCrop(20), transforms.ToTensor()])\n",
        "dataset = Dataset(csv_file=csv_file , data_dir=directory,transform=croptensor_data_transform )\n",
        "print(\"The shape of the first element tensor: \", dataset[0][0].shape)\n"
      ],
      "execution_count": null
    },
    {
      "cell_type": "markdown",
      "metadata": {
        "id": "d24b66ca-a20e-4e32-8838-986560eba525"
      },
      "source": [
        "We can see the image is now 20 x 20\n"
      ]
    },
    {
      "cell_type": "markdown",
      "metadata": {
        "id": "75498d04-7cf8-4df5-843f-db5b35362aa4"
      },
      "source": [
        "<!--Empty Space for separating topics-->\n"
      ]
    },
    {
      "cell_type": "markdown",
      "metadata": {
        "id": "675a99d9-b3b6-49f1-895d-895538d6f054"
      },
      "source": [
        "Let us plot the first image again. Notice we see less of the shoe.\n"
      ]
    },
    {
      "cell_type": "code",
      "metadata": {
        "id": "a8ac87fd-8bcd-4ab1-8c94-5e8bf502f84d"
      },
      "outputs": [],
      "source": [
        "# Plot the first element in the dataset\n",
        "\n",
        "show_data(dataset[0],shape = (20, 20))"
      ],
      "execution_count": null
    },
    {
      "cell_type": "code",
      "metadata": {
        "id": "05ce2895-7d32-4060-b865-c772bf346d80"
      },
      "outputs": [],
      "source": [
        "# Plot the second element in the dataset\n",
        "\n",
        "show_data(dataset[1],shape = (20, 20))"
      ],
      "execution_count": null
    },
    {
      "cell_type": "markdown",
      "metadata": {
        "id": "30d0546a-a663-48d1-9c21-30e25764938e"
      },
      "source": [
        "In the below example, we Vertically flip the image, and then convert it to a tensor. Use <code>transforms.Compose()</code> to combine these two transform functions. Plot the flipped image.\n"
      ]
    },
    {
      "cell_type": "code",
      "metadata": {
        "id": "eacf2ab6-3802-46db-99de-efb12bf02f95"
      },
      "outputs": [],
      "source": [
        "# Construct the compose. Apply it on MNIST dataset. Plot the image out.\n",
        "\n",
        "fliptensor_data_transform = transforms.Compose([transforms.RandomVerticalFlip(p=1),transforms.ToTensor()])\n",
        "dataset = Dataset(csv_file=csv_file , data_dir=directory,transform=fliptensor_data_transform )\n",
        "show_data(dataset[1])"
      ],
      "execution_count": null
    },
    {
      "cell_type": "markdown",
      "metadata": {
        "id": "d7559da3-eb87-4e29-a9f6-e9ce3abce8a7"
      },
      "source": [
        "<!--Empty Space for separating topics-->\n"
      ]
    },
    {
      "cell_type": "markdown",
      "metadata": {
        "id": "6e01b28d-dc13-4ee9-abcf-25086eeb14aa"
      },
      "source": [
        "<h3>Practice</h3>\n"
      ]
    },
    {
      "cell_type": "markdown",
      "metadata": {
        "id": "c42f9bf7-47b8-4eab-bced-aa8165736039"
      },
      "source": [
        "Try to use the <code>RandomVerticalFlip</code> (vertically flip the image) with horizontally flip and convert to tensor as a compose. Apply the compose on image. Use <code>show_data()</code> to plot the second image (the image as <b>2</b>).\n"
      ]
    },
    {
      "cell_type": "code",
      "metadata": {
        "id": "973893fa-ec4e-4153-8a9a-a901a0bede2f"
      },
      "outputs": [],
      "source": [
        "# Practice: Combine vertical flip, horizontal flip and convert to tensor as a compose. Apply the compose on image. Then plot the image\n",
        "\n",
        "# Type your code here"
      ],
      "execution_count": null
    },
    {
      "cell_type": "markdown",
      "metadata": {
        "id": "63bc400b-5583-4af6-882b-485438cacccb"
      },
      "source": [
        "Double-click __here__ for the solution.\n",
        "<!--\n",
        "my_data_transform = transforms.Compose([transforms.RandomVerticalFlip(p = 1), transforms.RandomHorizontalFlip(p = 1), transforms.ToTensor()])\n",
        "dataset = Dataset(csv_file=csv_file , data_dir=directory,transform=fliptensor_data_transform )\n",
        "show_data(dataset[1])\n",
        " -->\n"
      ]
    },
    {
      "cell_type": "markdown",
      "metadata": {
        "id": "868f569f-3349-4895-accd-a86b560900ad"
      },
      "source": [
        "<a href=\"https://dataplatform.cloud.ibm.com/registration/stepone?utm_source=skills_network&utm_content=in_lab_content_link&utm_id=Lab-IBMDeveloperSkillsNetwork-DL0110EN-SkillsNetwork&context=cpdaas&apps=data_science_experience%2Cwatson_machine_learning\"><img src=\"https://cf-courses-data.s3.us.cloud-object-storage.appdomain.cloud/IBMDeveloperSkillsNetwork-DL0110EN-SkillsNetwork/Template/module%201/images/Watson_Studio.png\"></a>\n"
      ]
    },
    {
      "cell_type": "markdown",
      "metadata": {
        "id": "1ab795c2-1d91-4bde-8f3d-776d929e576c"
      },
      "source": [
        "<!--Empty Space for separating topics-->\n"
      ]
    },
    {
      "cell_type": "markdown",
      "metadata": {
        "id": "ec94d53c-ed99-426c-9df4-40b03106df92"
      },
      "source": [
        "<h2>About the Authors:</h2>\n",
        "\n",
        "<a href=\"https://www.linkedin.com/in/joseph-s-50398b136/\">Joseph Santarcangelo</a> has a PhD in Electrical Engineering, his research focused on using machine learning, signal processing, and computer vision to determine how videos impact human cognition. Joseph has been working for IBM since he completed his PhD.\n"
      ]
    },
    {
      "cell_type": "markdown",
      "metadata": {
        "id": "9f8997fa-a042-4092-88f4-8c9427917cff"
      },
      "source": [
        "Other contributors: <a href=\"https://www.linkedin.com/in/michelleccarey/\">Michelle Carey</a>, <a href=\"www.linkedin.com/in/jiahui-mavis-zhou-a4537814a\">Mavis Zhou</a>\n"
      ]
    },
    {
      "cell_type": "markdown",
      "metadata": {
        "id": "b7e5bc8d-0633-4b5e-b2fe-9d8f0335eb6a"
      },
      "source": [
        "<!--\n",
        "## Change Log\n",
        "\n",
        "|  Date (YYYY-MM-DD) |  Version | Changed By  |  Change Description |\n",
        "|---|---|---|---|\n",
        "| 2020-09-21  | 2.0  | Shubham  |  Migrated Lab to Markdown and added to course repo in GitLab |\n",
        "\n",
        "-->\n"
      ]
    },
    {
      "cell_type": "markdown",
      "metadata": {
        "id": "045c887d-d92d-4875-8c62-affc01c60e37"
      },
      "source": [
        "<hr>\n"
      ]
    },
    {
      "cell_type": "markdown",
      "metadata": {
        "id": "2f6b9651-7976-410c-8cea-928aac614e0f"
      },
      "source": [
        "## <h3 align=\"center\"> &#169; IBM Corporation. All rights reserved. <h3/>\n"
      ]
    }
  ],
  "metadata": {
    "kernelspec": {
      "display_name": "Python",
      "language": "python",
      "name": "conda-env-python-py"
    },
    "language_info": {
      "name": ""
    },
    "colab": {
      "provenance": []
    }
  },
  "nbformat": 4,
  "nbformat_minor": 0
}