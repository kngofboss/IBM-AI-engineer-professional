{
  "cells": [
    {
      "cell_type": "markdown",
      "metadata": {
        "id": "7171c02d-f579-4801-9f44-63313e3c6479"
      },
      "source": [
        "<p style=\"text-align:center\">\n",
        "    <a href=\"https://skills.network\" target=\"_blank\">\n",
        "    <img src=\"https://cf-courses-data.s3.us.cloud-object-storage.appdomain.cloud/assets/logos/SN_web_lightmode.png\" width=\"200\" alt=\"Skills Network Logo\">\n",
        "    </a>\n",
        "</p>\n"
      ]
    },
    {
      "cell_type": "markdown",
      "metadata": {
        "id": "3c1811fa-0af8-4fc2-99f2-81f7722cb3a7"
      },
      "source": [
        "<h1>Linear Regression 1D: Training Two Parameter Mini-Batch Gradient Decent</h1>\n"
      ]
    },
    {
      "cell_type": "markdown",
      "metadata": {
        "id": "5999a862-ccbf-45c5-b08e-f17e55629280"
      },
      "source": [
        "<h2>Objective</h2><ul><li> How to use Mini-Batch Gradient Descent to train model.</li></ul>\n"
      ]
    },
    {
      "cell_type": "markdown",
      "metadata": {
        "id": "709cf7e9-4a72-49a0-ae24-6805e4f6133b"
      },
      "source": [
        "<h2>Table of Contents</h2>\n",
        "<p>In this Lab, you will practice training a model by using Mini-Batch Gradient Descent.</p>\n",
        "\n",
        "<ul>\n",
        "    <li><a href=\"#Make-Some-Data\">Make Some Data</a></li>\n",
        "    <li><a href=\"#Create-the-Model-and-Cost-Function-(Total-Loss)\">Create the Model and Cost Function (Total Loss)</a></li>\n",
        "    <li><a href=\"#Train-the-Model:-Batch-Gradient-Descent\">Train the Model: Batch Gradient Descent</a></li>\n",
        "    <li><a href=\"#Train-the-Model:-Stochastic-Gradient-Descent-with-Dataset-DataLoader\">Train the Model: Stochastic Gradient Descent with Dataset DataLoader</a></li>\n",
        "    <li><a href=\"#Train-the-Model:-Mini-Batch-Gradient-Descent:-Batch-Size-Equals-5\">Train the Model: Mini Batch Gradient Descent: Batch Size Equals 5</a></li>\n",
        "    <li><a href=\"#Train-the-Model:-Mini-Batch-Gradient-Descent:-Batch-Size-Equals-10\">Train the Model: Mini Batch Gradient Descent: Batch Size Equals 10</a></li>\n",
        "</ul>\n",
        "<p>Estimated Time Needed: <strong>30 min</strong></p>\n",
        "</div>\n",
        "\n",
        "<hr>\n"
      ]
    },
    {
      "cell_type": "markdown",
      "metadata": {
        "id": "671b4543-fc44-41ba-8cdb-68c45875076b"
      },
      "source": [
        "<h2>Preparation</h2>\n"
      ]
    },
    {
      "cell_type": "markdown",
      "metadata": {
        "id": "688ea5f2-cf2f-4225-ac37-7bb68e938460"
      },
      "source": [
        "We'll need the following libraries:\n"
      ]
    },
    {
      "cell_type": "code",
      "metadata": {
        "id": "395e5041-df28-4548-801d-234541170218"
      },
      "outputs": [],
      "source": [
        "# Import the libraries we need for this lab\n",
        "\n",
        "import numpy as np\n",
        "import matplotlib.pyplot as plt\n",
        "from mpl_toolkits import mplot3d"
      ],
      "execution_count": null
    },
    {
      "cell_type": "markdown",
      "metadata": {
        "id": "750d79f8-2d46-4846-b5a9-4df76a005daf"
      },
      "source": [
        "The class <code>plot_error_surfaces</code> is just to help you visualize the data space and the parameter space during training and has nothing to do with PyTorch.\n"
      ]
    },
    {
      "cell_type": "code",
      "metadata": {
        "id": "519084c9-c1c2-40fc-ab5a-636f7ba45c95"
      },
      "outputs": [],
      "source": [
        "# The class for plotting the diagrams\n",
        "\n",
        "class plot_error_surfaces(object):\n",
        "\n",
        "    # Constructor\n",
        "    def __init__(self, w_range, b_range, X, Y, n_samples = 30, go = True):\n",
        "        W = np.linspace(-w_range, w_range, n_samples)\n",
        "        B = np.linspace(-b_range, b_range, n_samples)\n",
        "        w, b = np.meshgrid(W, B)\n",
        "        Z = np.zeros((30, 30))\n",
        "        count1 = 0\n",
        "        self.y = Y.numpy()\n",
        "        self.x = X.numpy()\n",
        "        for w1, b1 in zip(w, b):\n",
        "            count2 = 0\n",
        "            for w2, b2 in zip(w1, b1):\n",
        "                Z[count1, count2] = np.mean((self.y - w2 * self.x + b2) ** 2)\n",
        "                count2 += 1\n",
        "            count1 += 1\n",
        "        self.Z = Z\n",
        "        self.w = w\n",
        "        self.b = b\n",
        "        self.W = []\n",
        "        self.B = []\n",
        "        self.LOSS = []\n",
        "        self.n = 0\n",
        "        if go == True:\n",
        "            plt.figure()\n",
        "            plt.figure(figsize = (7.5, 5))\n",
        "            plt.axes(projection = '3d').plot_surface(self.w, self.b, self.Z, rstride = 1, cstride = 1, cmap = 'viridis', edgecolor = 'none')\n",
        "            plt.title('Loss Surface')\n",
        "            plt.xlabel('w')\n",
        "            plt.ylabel('b')\n",
        "            plt.show()\n",
        "            plt.figure()\n",
        "            plt.title('Loss Surface Contour')\n",
        "            plt.xlabel('w')\n",
        "            plt.ylabel('b')\n",
        "            plt.contour(self.w, self.b, self.Z)\n",
        "            plt.show()\n",
        "\n",
        "     # Setter\n",
        "    def set_para_loss(self, W, B, loss):\n",
        "        self.n = self.n + 1\n",
        "        self.W.append(W)\n",
        "        self.B.append(B)\n",
        "        self.LOSS.append(loss)\n",
        "\n",
        "    # Plot diagram\n",
        "    def final_plot(self):\n",
        "        ax = plt.axes(projection = '3d')\n",
        "        ax.plot_wireframe(self.w, self.b, self.Z)\n",
        "        ax.scatter(self.W, self.B, self.LOSS, c = 'r', marker = 'x', s = 200, alpha = 1)\n",
        "        plt.figure()\n",
        "        plt.contour(self.w, self.b, self.Z)\n",
        "        plt.scatter(self.W, self.B, c = 'r', marker = 'x')\n",
        "        plt.xlabel('w')\n",
        "        plt.ylabel('b')\n",
        "        plt.show()\n",
        "\n",
        "    # Plot diagram\n",
        "    def plot_ps(self):\n",
        "        plt.subplot(121)\n",
        "        plt.ylim()\n",
        "        plt.plot(self.x, self.y, 'ro', label = \"training points\")\n",
        "        plt.plot(self.x, self.W[-1] * self.x + self.B[-1], label = \"estimated line\")\n",
        "        plt.xlabel('x')\n",
        "        plt.ylabel('y')\n",
        "        plt.title('Data Space Iteration: '+ str(self.n))\n",
        "        plt.subplot(122)\n",
        "        plt.contour(self.w, self.b, self.Z)\n",
        "        plt.scatter(self.W, self.B, c = 'r', marker = 'x')\n",
        "        plt.title('Loss Surface Contour')\n",
        "        plt.xlabel('w')\n",
        "        plt.ylabel('b')\n",
        "        plt.show()"
      ],
      "execution_count": null
    },
    {
      "cell_type": "markdown",
      "metadata": {
        "id": "cecc075d-4891-4d4a-bde8-dffe0b455a4c"
      },
      "source": [
        "<!--Empty Space for separating topics-->\n"
      ]
    },
    {
      "cell_type": "markdown",
      "metadata": {
        "id": "23232b63-6090-4856-9d73-3941335aa700"
      },
      "source": [
        "<!-- <h2 id=\"Makeup_Data\">Make Some Data </h2>\n",
        " -->\n",
        " ## Make Some Data\n"
      ]
    },
    {
      "cell_type": "markdown",
      "metadata": {
        "id": "0740c392-58e4-4163-9d5b-2b3c4248ba5c"
      },
      "source": [
        "Import PyTorch and set random seed:\n"
      ]
    },
    {
      "cell_type": "code",
      "metadata": {
        "id": "02d39d68-81f4-4dd0-909b-a303e3a893c6"
      },
      "outputs": [],
      "source": [
        "# Import PyTorch library\n",
        "\n",
        "import torch\n",
        "torch.manual_seed(1)"
      ],
      "execution_count": null
    },
    {
      "cell_type": "markdown",
      "metadata": {
        "id": "a207d974-ad15-4c63-9d31-d243dcae70b4"
      },
      "source": [
        "Generate values from -3 to 3 that create a line with a slope of 1 and a bias of -1. This is the line that you need to estimate. Add some noise to the data:\n"
      ]
    },
    {
      "cell_type": "code",
      "metadata": {
        "id": "c391cfad-c1d3-4f21-8b95-44700808df8b"
      },
      "outputs": [],
      "source": [
        "# Generate the data with noise and the line\n",
        "\n",
        "X = torch.arange(-3, 3, 0.1).view(-1, 1)\n",
        "f = 1 * X - 1\n",
        "Y = f + 0.1 * torch.randn(X.size())"
      ],
      "execution_count": null
    },
    {
      "cell_type": "markdown",
      "metadata": {
        "id": "f94f78a8-b7ed-4196-9ed9-fa2c49c0a513"
      },
      "source": [
        "Plot the results:\n"
      ]
    },
    {
      "cell_type": "code",
      "metadata": {
        "id": "47645b0b-3980-4f9b-80a3-a756db3ab526"
      },
      "outputs": [],
      "source": [
        "# Plot the line and the data\n",
        "\n",
        "plt.plot(X.numpy(), Y.numpy(), 'rx', label = 'y')\n",
        "plt.plot(X.numpy(), f.numpy(), label = 'f')\n",
        "plt.xlabel('x')\n",
        "plt.ylabel('y')\n",
        "plt.legend()\n",
        "plt.show()"
      ],
      "execution_count": null
    },
    {
      "cell_type": "markdown",
      "metadata": {
        "id": "cb21402b-14f8-4253-b198-482ccab606b7"
      },
      "source": [
        "<!--Empty Space for separating topics-->\n"
      ]
    },
    {
      "cell_type": "markdown",
      "metadata": {
        "id": "b23ee2a1-08de-4f1e-8e4c-dfc7a576791e"
      },
      "source": [
        "<!-- <h2 id=\"Model_Cost\">Create the Model and Cost Function (Total Loss) </h2>\n",
        " -->\n",
        " ## Create the Model and Cost Function (Total Loss)\n"
      ]
    },
    {
      "cell_type": "markdown",
      "metadata": {
        "id": "879c17b9-012c-41bc-bcde-52b2b58519f6"
      },
      "source": [
        "Define the <code>forward</code> function:\n"
      ]
    },
    {
      "cell_type": "code",
      "metadata": {
        "id": "fdc0b08f-6176-4bef-803c-d3dbaa6bc4e8"
      },
      "outputs": [],
      "source": [
        "# Define the prediction function\n",
        "\n",
        "def forward(x):\n",
        "    return w * x + b"
      ],
      "execution_count": null
    },
    {
      "cell_type": "markdown",
      "metadata": {
        "id": "fa3f8cfa-50e5-4fbc-8465-be24879fddac"
      },
      "source": [
        "Define the cost or criterion function:\n"
      ]
    },
    {
      "cell_type": "code",
      "metadata": {
        "id": "29304705-f3f3-4311-beb5-ad76c98eebb2"
      },
      "outputs": [],
      "source": [
        "# Define the cost function\n",
        "\n",
        "def criterion(yhat, y):\n",
        "    return torch.mean((yhat - y) ** 2)"
      ],
      "execution_count": null
    },
    {
      "cell_type": "markdown",
      "metadata": {
        "id": "7b707b1d-aaff-4197-8732-64d5df22bd75"
      },
      "source": [
        "Create a <code> plot_error_surfaces</code> object to visualize the data space and the parameter space during training:\n"
      ]
    },
    {
      "cell_type": "code",
      "metadata": {
        "id": "a9eb2a2b-0db4-44ec-a1c5-ed6282c08018"
      },
      "outputs": [],
      "source": [
        "# Create a plot_error_surfaces object.\n",
        "\n",
        "get_surface = plot_error_surfaces(15, 13, X, Y, 30)"
      ],
      "execution_count": null
    },
    {
      "cell_type": "markdown",
      "metadata": {
        "id": "0d21ba93-fe23-49e0-b75e-798829bf8dd8"
      },
      "source": [
        "<!--Empty Space for separating topics-->\n"
      ]
    },
    {
      "cell_type": "markdown",
      "metadata": {
        "id": "be8c971a-0bc3-4106-9a67-78e8eb1b0f8a"
      },
      "source": [
        "<!-- <h2>Train the Model: Batch Gradient Descent (BGD)</h2>\n",
        " -->\n",
        " ## Train the Model: Batch Gradient Descent\n"
      ]
    },
    {
      "cell_type": "markdown",
      "metadata": {
        "id": "aff44fe2-990b-475c-b9c1-d94e9f09c57e"
      },
      "source": [
        "Define <code>train_model_BGD</code> function.\n"
      ]
    },
    {
      "cell_type": "code",
      "metadata": {
        "id": "0f96c9bb-5c67-47c4-90d6-9fc0c1aeff70"
      },
      "outputs": [],
      "source": [
        "# Define the function for training model\n",
        "\n",
        "w = torch.tensor(-15.0, requires_grad = True)\n",
        "b = torch.tensor(-10.0, requires_grad = True)\n",
        "lr = 0.1\n",
        "LOSS_BGD = []\n",
        "\n",
        "def train_model_BGD(epochs):\n",
        "    for epoch in range(epochs):\n",
        "        Yhat = forward(X)\n",
        "        loss = criterion(Yhat, Y)\n",
        "        LOSS_BGD.append(loss)\n",
        "        get_surface.set_para_loss(w.data.tolist(), b.data.tolist(), loss.tolist())\n",
        "        get_surface.plot_ps()\n",
        "        loss.backward()\n",
        "        w.data = w.data - lr * w.grad.data\n",
        "        b.data = b.data - lr * b.grad.data\n",
        "        w.grad.data.zero_()\n",
        "        b.grad.data.zero_()"
      ],
      "execution_count": null
    },
    {
      "cell_type": "markdown",
      "metadata": {
        "id": "dc840b8e-87e1-4b43-83d1-ea3235f36fdd"
      },
      "source": [
        "Run 10 epochs of batch gradient descent: <b>bug</b> data space is 1 iteration ahead of parameter space.\n"
      ]
    },
    {
      "cell_type": "code",
      "metadata": {
        "id": "81151868-25c4-4176-80d1-facdaeb32921"
      },
      "outputs": [],
      "source": [
        "# Run train_model_BGD with 10 iterations\n",
        "\n",
        "train_model_BGD(10)"
      ],
      "execution_count": null
    },
    {
      "cell_type": "markdown",
      "metadata": {
        "id": "c98c9e03-f796-4a99-8f77-d547e529aee3"
      },
      "source": [
        "<!--Empty Space for separating topics-->\n"
      ]
    },
    {
      "cell_type": "markdown",
      "metadata": {
        "id": "3ec60810-c0bf-4a89-889c-1674c418baf4"
      },
      "source": [
        "<!-- <h2 id=\"SGD\"> Stochastic Gradient Descent (SGD) with Dataset DataLoader</h2>\n",
        " -->\n",
        " ## Train the Model: Stochastic Gradient Descent with Dataset DataLoader\n"
      ]
    },
    {
      "cell_type": "markdown",
      "metadata": {
        "id": "f92d3248-5f19-41b9-8425-a04735d966fa"
      },
      "source": [
        "Create a <code>plot_error_surfaces</code> object to visualize the data space and the parameter space during training:\n"
      ]
    },
    {
      "cell_type": "code",
      "metadata": {
        "id": "6d87b2d8-eeae-4be3-8c89-c9009f7b27c1"
      },
      "outputs": [],
      "source": [
        "# Create a plot_error_surfaces object.\n",
        "\n",
        "get_surface = plot_error_surfaces(15, 13, X, Y, 30, go = False)"
      ],
      "execution_count": null
    },
    {
      "cell_type": "markdown",
      "metadata": {
        "id": "aee17938-c31c-43f1-a3c8-dbf5d4d5ee5d"
      },
      "source": [
        "Import <code>Dataset</code> and <code>DataLoader</code> libraries\n"
      ]
    },
    {
      "cell_type": "code",
      "metadata": {
        "id": "355944e5-6bf5-46b1-8de3-55af19b92d3c"
      },
      "outputs": [],
      "source": [
        "# Import libraries\n",
        "\n",
        "from torch.utils.data import Dataset, DataLoader"
      ],
      "execution_count": null
    },
    {
      "cell_type": "markdown",
      "metadata": {
        "id": "f6594195-5e9d-46fa-a3f4-c37f4046d677"
      },
      "source": [
        "Create <code>Data</code> class\n"
      ]
    },
    {
      "cell_type": "code",
      "metadata": {
        "id": "e423ce2b-b282-4059-a212-5fb6b7868ec4"
      },
      "outputs": [],
      "source": [
        "# Create class Data\n",
        "\n",
        "class Data(Dataset):\n",
        "\n",
        "    # Constructor\n",
        "    def __init__(self):\n",
        "        self.x = torch.arange(-3, 3, 0.1).view(-1, 1)\n",
        "        self.y = 1 * X - 1\n",
        "        self.len = self.x.shape[0]\n",
        "\n",
        "    # Getter\n",
        "    def __getitem__(self, index):\n",
        "        return self.x[index], self.y[index]\n",
        "\n",
        "    # Get length\n",
        "    def __len__(self):\n",
        "        return self.len"
      ],
      "execution_count": null
    },
    {
      "cell_type": "markdown",
      "metadata": {
        "id": "9f598fc2-97ae-441a-9b97-f502d55e2fa7"
      },
      "source": [
        "Create a dataset object and a dataloader object:\n"
      ]
    },
    {
      "cell_type": "code",
      "metadata": {
        "id": "235ce405-f175-44b7-9c5e-06a87120b43f"
      },
      "outputs": [],
      "source": [
        "# Create Data object and DataLoader object\n",
        "\n",
        "dataset = Data()\n",
        "trainloader = DataLoader(dataset = dataset, batch_size = 1)"
      ],
      "execution_count": null
    },
    {
      "cell_type": "markdown",
      "metadata": {
        "id": "b9768db7-80bc-4436-b319-1b5d307a1a84"
      },
      "source": [
        "Define <code>train_model_SGD</code> function for training the model.\n"
      ]
    },
    {
      "cell_type": "code",
      "metadata": {
        "id": "dd2f854f-a7ea-45c8-93cd-b8e0fc2d9d5b"
      },
      "outputs": [],
      "source": [
        "# Define train_model_SGD function\n",
        "\n",
        "w = torch.tensor(-15.0, requires_grad = True)\n",
        "b = torch.tensor(-10.0, requires_grad = True)\n",
        "LOSS_SGD = []\n",
        "lr = 0.1\n",
        "def train_model_SGD(epochs):\n",
        "    for epoch in range(epochs):\n",
        "        Yhat = forward(X)\n",
        "        get_surface.set_para_loss(w.data.tolist(), b.data.tolist(), criterion(Yhat, Y).tolist())\n",
        "        get_surface.plot_ps()\n",
        "        LOSS_SGD.append(criterion(forward(X), Y).tolist())\n",
        "        for x, y in trainloader:\n",
        "            yhat = forward(x)\n",
        "            loss = criterion(yhat, y)\n",
        "            get_surface.set_para_loss(w.data.tolist(), b.data.tolist(), loss.tolist())\n",
        "            loss.backward()\n",
        "            w.data = w.data - lr * w.grad.data\n",
        "            b.data = b.data - lr * b.grad.data\n",
        "            w.grad.data.zero_()\n",
        "            b.grad.data.zero_()\n",
        "        get_surface.plot_ps()"
      ],
      "execution_count": null
    },
    {
      "cell_type": "markdown",
      "metadata": {
        "id": "a3c30775-aca0-4b13-bbd1-28c5e4ce4bb0"
      },
      "source": [
        "Run 10 epochs of stochastic gradient descent: <b>bug</b> data space is 1 iteration ahead of parameter space.\n"
      ]
    },
    {
      "cell_type": "code",
      "metadata": {
        "id": "1a566be5-a477-4aea-b2e3-bf8aaf77ebc5"
      },
      "outputs": [],
      "source": [
        "# Run train_model_SGD(iter) with 10 iterations\n",
        "\n",
        "train_model_SGD(10)"
      ],
      "execution_count": null
    },
    {
      "cell_type": "markdown",
      "metadata": {
        "id": "cb6dfb3e-82d5-46fa-a022-b223357e6b82"
      },
      "source": [
        "<!--Empty Space for separating topics-->\n"
      ]
    },
    {
      "cell_type": "markdown",
      "metadata": {
        "id": "87ee56e3-ca9e-4211-81ff-1bed7105b8b6"
      },
      "source": [
        "<!-- <h2 id=\"Mini5\">Mini Batch Gradient Descent: Batch Size Equals 5</h2>\n",
        " -->\n",
        " ## Train the Model: Mini Batch Gradient Descent: Batch Size Equals 5\n"
      ]
    },
    {
      "cell_type": "markdown",
      "metadata": {
        "id": "f64cb19c-bd99-4583-ba61-9cf039567ecb"
      },
      "source": [
        "Create a <code> plot_error_surfaces</code> object to visualize the data space and the parameter space during training:\n"
      ]
    },
    {
      "cell_type": "code",
      "metadata": {
        "id": "9bbb5bba-5106-4e76-a1e3-e488b506fcdc"
      },
      "outputs": [],
      "source": [
        "# Create a plot_error_surfaces object.\n",
        "\n",
        "get_surface = plot_error_surfaces(15, 13, X, Y, 30, go = False)"
      ],
      "execution_count": null
    },
    {
      "cell_type": "markdown",
      "metadata": {
        "id": "77609e2e-7b58-4559-934b-901fcd57d6b4"
      },
      "source": [
        "Create <code>Data</code> object and create a <code>Dataloader</code> object where the batch size equals 5:\n"
      ]
    },
    {
      "cell_type": "code",
      "metadata": {
        "id": "392d93b8-2016-4b2f-ac69-f11862da932f"
      },
      "outputs": [],
      "source": [
        "# Create DataLoader object and Data object\n",
        "\n",
        "dataset = Data()\n",
        "trainloader = DataLoader(dataset = dataset, batch_size = 5)"
      ],
      "execution_count": null
    },
    {
      "cell_type": "markdown",
      "metadata": {
        "id": "7b78878b-3eb9-48dc-afcc-05506e79af25"
      },
      "source": [
        "Define <code>train_model_Mini5</code> function to train the model.\n"
      ]
    },
    {
      "cell_type": "code",
      "metadata": {
        "id": "08fc849d-5aa3-4c6b-9ec0-6b4a3bb6f497"
      },
      "outputs": [],
      "source": [
        "# Define train_model_Mini5 function\n",
        "\n",
        "w = torch.tensor(-15.0, requires_grad = True)\n",
        "b = torch.tensor(-10.0, requires_grad = True)\n",
        "LOSS_MINI5 = []\n",
        "lr = 0.1\n",
        "\n",
        "def train_model_Mini5(epochs):\n",
        "    for epoch in range(epochs):\n",
        "        Yhat = forward(X)\n",
        "        get_surface.set_para_loss(w.data.tolist(), b.data.tolist(), criterion(Yhat, Y).tolist())\n",
        "        get_surface.plot_ps()\n",
        "        LOSS_MINI5.append(criterion(forward(X), Y).tolist())\n",
        "        for x, y in trainloader:\n",
        "            yhat = forward(x)\n",
        "            loss = criterion(yhat, y)\n",
        "            get_surface.set_para_loss(w.data.tolist(), b.data.tolist(), loss.tolist())\n",
        "            loss.backward()\n",
        "            w.data = w.data - lr * w.grad.data\n",
        "            b.data = b.data - lr * b.grad.data\n",
        "            w.grad.data.zero_()\n",
        "            b.grad.data.zero_()"
      ],
      "execution_count": null
    },
    {
      "cell_type": "markdown",
      "metadata": {
        "id": "7980138b-8c5d-4440-affd-7616478adaf0"
      },
      "source": [
        "Run 10 epochs of mini-batch gradient descent: <b>bug</b> data space is 1 iteration ahead of parameter space.\n"
      ]
    },
    {
      "cell_type": "code",
      "metadata": {
        "id": "f34b5d34-1e85-4ec9-a960-b3ef12bd1512"
      },
      "outputs": [],
      "source": [
        "# Run train_model_Mini5 with 10 iterations.\n",
        "\n",
        "train_model_Mini5(10)"
      ],
      "execution_count": null
    },
    {
      "cell_type": "markdown",
      "metadata": {
        "id": "edebf9a9-a7e2-4e61-a38f-e1268d32c28b"
      },
      "source": [
        "<!--Empty Space for separating topics-->\n"
      ]
    },
    {
      "cell_type": "markdown",
      "metadata": {
        "id": "95c4191d-febd-4cbe-a966-705109d1b715"
      },
      "source": [
        "<!-- <h2 id=\"Mini10\">Mini Batch Gradient Descent: Batch Size Equals 10</h2>\n",
        " -->\n",
        " ## Train the Model: Mini Batch Gradient Descent: Batch Size Equals 10\n"
      ]
    },
    {
      "cell_type": "markdown",
      "metadata": {
        "id": "37b6595e-cc63-41b6-bfe6-16d7891e55bb"
      },
      "source": [
        "Create a <code> plot_error_surfaces</code> object to visualize the data space and the parameter space during training:\n"
      ]
    },
    {
      "cell_type": "code",
      "metadata": {
        "id": "8eb45502-5d8d-4e64-a071-ec06772d0bc2"
      },
      "outputs": [],
      "source": [
        "# Create a plot_error_surfaces object.\n",
        "\n",
        "get_surface = plot_error_surfaces(15, 13, X, Y, 30, go = False)"
      ],
      "execution_count": null
    },
    {
      "cell_type": "markdown",
      "metadata": {
        "id": "9752a50b-418f-4882-bf4d-6c5ebd17756f"
      },
      "source": [
        "Create <code>Data</code> object and create a <code>Dataloader</code> object batch size equals 10\n"
      ]
    },
    {
      "cell_type": "code",
      "metadata": {
        "id": "c5952fe2-5c2b-49b2-ae37-91ade6e8fbbe"
      },
      "outputs": [],
      "source": [
        "# Create DataLoader object\n",
        "\n",
        "dataset = Data()\n",
        "trainloader = DataLoader(dataset = dataset, batch_size = 10)"
      ],
      "execution_count": null
    },
    {
      "cell_type": "markdown",
      "metadata": {
        "id": "9b08182d-fed1-4fc9-8b85-a25ac8562d6c"
      },
      "source": [
        "Define <code>train_model_Mini10</code> function for training the model.\n"
      ]
    },
    {
      "cell_type": "code",
      "metadata": {
        "id": "7c9211aa-3746-4df2-82f9-4b06af75051d"
      },
      "outputs": [],
      "source": [
        "# Define train_model_Mini5 function\n",
        "\n",
        "w = torch.tensor(-15.0, requires_grad = True)\n",
        "b = torch.tensor(-10.0, requires_grad = True)\n",
        "LOSS_MINI10 = []\n",
        "lr = 0.1\n",
        "\n",
        "def train_model_Mini10(epochs):\n",
        "    for epoch in range(epochs):\n",
        "        Yhat = forward(X)\n",
        "        get_surface.set_para_loss(w.data.tolist(), b.data.tolist(), criterion(Yhat, Y).tolist())\n",
        "        get_surface.plot_ps()\n",
        "        LOSS_MINI10.append(criterion(forward(X),Y).tolist())\n",
        "        for x, y in trainloader:\n",
        "            yhat = forward(x)\n",
        "            loss = criterion(yhat, y)\n",
        "            get_surface.set_para_loss(w.data.tolist(), b.data.tolist(), loss.tolist())\n",
        "            loss.backward()\n",
        "            w.data = w.data - lr * w.grad.data\n",
        "            b.data = b.data - lr * b.grad.data\n",
        "            w.grad.data.zero_()\n",
        "            b.grad.data.zero_()"
      ],
      "execution_count": null
    },
    {
      "cell_type": "markdown",
      "metadata": {
        "id": "72a3687a-37b8-4455-aeb3-ee829e4e46bb"
      },
      "source": [
        "Run 10 epochs of mini-batch gradient descent: <b>bug</b> data space is 1 iteration ahead of parameter space.\n"
      ]
    },
    {
      "cell_type": "code",
      "metadata": {
        "id": "35c371c5-b8e3-40fe-bd50-d596c217ce55"
      },
      "outputs": [],
      "source": [
        "# Run train_model_Mini5 with 10 iterations.\n",
        "\n",
        "train_model_Mini10(10)"
      ],
      "execution_count": null
    },
    {
      "cell_type": "markdown",
      "metadata": {
        "id": "ec2439d5-9958-413b-a588-929f686b996f"
      },
      "source": [
        "Plot the loss for each epoch:  \n"
      ]
    },
    {
      "cell_type": "code",
      "metadata": {
        "id": "4a82794a-efa6-4632-8d42-c7042df14154"
      },
      "outputs": [],
      "source": [
        "# Plot out the LOSS for each method\n",
        "LOSS_BGD= [ loss.detach().numpy() for loss in LOSS_BGD]\n",
        "plt.plot(LOSS_BGD,label = \"Batch Gradient Descent\")\n",
        "plt.plot(LOSS_SGD,label = \"Stochastic Gradient Descent\")\n",
        "plt.plot(LOSS_MINI5,label = \"Mini-Batch Gradient Descent, Batch size: 5\")\n",
        "plt.plot(LOSS_MINI10,label = \"Mini-Batch Gradient Descent, Batch size: 10\")\n",
        "plt.legend()"
      ],
      "execution_count": null
    },
    {
      "cell_type": "markdown",
      "metadata": {
        "id": "e9c94eea-11fd-4d79-a6fa-9406ca2c8785"
      },
      "source": [
        "<!--Empty Space for separating topics-->\n"
      ]
    },
    {
      "cell_type": "markdown",
      "metadata": {
        "id": "787093ae-e1ab-4194-aecd-7aa41f151457"
      },
      "source": [
        "<h3>Practice</h3>\n"
      ]
    },
    {
      "cell_type": "markdown",
      "metadata": {
        "id": "ad0fd9b4-b1fd-4408-b1e6-4405567d8885"
      },
      "source": [
        "Perform mini batch gradient descent with a batch size of 20. Store the total loss for each epoch in the list LOSS20.  \n"
      ]
    },
    {
      "cell_type": "code",
      "metadata": {
        "id": "71e85e90-9f15-4ffe-8718-f7571456e82b"
      },
      "outputs": [],
      "source": [
        "# Practice: Perform mini batch gradient descent with a batch size of 20.\n",
        "\n",
        "dataset = Data()"
      ],
      "execution_count": null
    },
    {
      "cell_type": "markdown",
      "metadata": {
        "id": "09dcfa78-2e89-4b8d-b461-d27036b8cebd"
      },
      "source": [
        "Double-click <b>here</b> for the solution.\n",
        "\n",
        "<!--\n",
        "trainloader = DataLoader(dataset = dataset, batch_size = 20)\n",
        "w = torch.tensor(-15.0, requires_grad = True)\n",
        "b = torch.tensor(-10.0, requires_grad = True)\n",
        "\n",
        "LOSS_MINI20 = []\n",
        "lr = 0.1\n",
        "\n",
        "def my_train_model(epochs):\n",
        "    for epoch in range(epochs):\n",
        "        Yhat = forward(X)\n",
        "        get_surface.set_para_loss(w.data.tolist(), b.data.tolist(), criterion(Yhat, Y).tolist())\n",
        "        get_surface.plot_ps()\n",
        "        LOSS_MINI20.append(criterion(forward(X), Y).tolist())\n",
        "        for x, y in trainloader:\n",
        "            yhat = forward(x)\n",
        "            loss = criterion(yhat, y)\n",
        "            get_surface.set_para_loss(w.data.tolist(), b.data.tolist(), loss.tolist())\n",
        "            loss.backward()\n",
        "            w.data = w.data - lr * w.grad.data\n",
        "            b.data = b.data - lr * b.grad.data\n",
        "            w.grad.data.zero_()\n",
        "            b.grad.data.zero_()\n",
        "\n",
        "my_train_model(10)\n",
        "-->\n"
      ]
    },
    {
      "cell_type": "markdown",
      "metadata": {
        "id": "f649e1c1-649e-4ea4-acd3-2c437c330bc8"
      },
      "source": [
        "Plot a graph that shows the LOSS results for all the methods.\n"
      ]
    },
    {
      "cell_type": "code",
      "metadata": {
        "id": "ebbc1953-64f6-4c50-ae8f-ef07815763f8"
      },
      "outputs": [],
      "source": [
        "# Practice: Plot a graph to show all the LOSS functions\n",
        "\n",
        "# Type your code here"
      ],
      "execution_count": null
    },
    {
      "cell_type": "markdown",
      "metadata": {
        "id": "596fa820-0fe2-4549-834d-5bf187170829"
      },
      "source": [
        "Double-click <b>here</b> for the solution.\n",
        "\n",
        "<!--\n",
        "plt.plot(LOSS_BGD, label = \"Batch Gradient Descent\")\n",
        "plt.plot(LOSS_SGD, label = \"Stochastic Gradient Descent\")\n",
        "plt.plot(LOSS_MINI5, label = \"Mini-Batch Gradient Descent,Batch size:5\")\n",
        "plt.plot(LOSS_MINI10, label = \"Mini-Batch Gradient Descent,Batch size:10\")\n",
        "plt.plot(LOSS_MINI20, label = \"Mini-Batch Gradient Descent,Batch size:20\")\n",
        "plt.legend()\n",
        "-->\n"
      ]
    },
    {
      "cell_type": "markdown",
      "metadata": {
        "id": "da5ce379-0153-4d9d-8222-daaec1f40291"
      },
      "source": [
        "\n",
        "\n",
        "<a href=\"https://dataplatform.cloud.ibm.com/registration/stepone?utm_source=skills_network&utm_content=in_lab_content_link&utm_id=Lab-IBMDeveloperSkillsNetwork-DL0110EN-SkillsNetwork&context=cpdaas&apps=data_science_experience%2Cwatson_machine_learning\"><img src=\"https://cf-courses-data.s3.us.cloud-object-storage.appdomain.cloud/IBMDeveloperSkillsNetwork-DL0110EN-SkillsNetwork/Template/module%201/images/Watson_Studio.png\"></a>\n"
      ]
    },
    {
      "cell_type": "markdown",
      "metadata": {
        "id": "a44365d5-34c0-44ed-86f9-d61c44a81102"
      },
      "source": [
        "<!--Empty Space for separating topics-->\n"
      ]
    },
    {
      "cell_type": "markdown",
      "metadata": {
        "id": "6d8dfc0a-1a27-41dd-b2c8-ad044f987641"
      },
      "source": [
        "<h2>About the Authors:</h2>\n",
        "\n",
        "<a href=\"https://www.linkedin.com/in/joseph-s-50398b136/\">Joseph Santarcangelo</a> has a PhD in Electrical Engineering, his research focused on using machine learning, signal processing, and computer vision to determine how videos impact human cognition. Joseph has been working for IBM since he completed his PhD.\n"
      ]
    },
    {
      "cell_type": "markdown",
      "metadata": {
        "id": "dd133e3d-9ca1-4e64-9080-54a3ee4e2530"
      },
      "source": [
        "Other contributors: <a href=\"https://www.linkedin.com/in/michelleccarey/\">Michelle Carey</a>, <a href=\"https://www.linkedin.com/in/jiahui-mavis-zhou-a4537814a/\">Mavis Zhou</a>\n"
      ]
    },
    {
      "cell_type": "markdown",
      "metadata": {
        "id": "c6fde085-8083-4f9b-bd89-0a8dd711a023"
      },
      "source": [
        "<!--\n",
        "## Change Log\n",
        "\n",
        "|  Date (YYYY-MM-DD) |  Version | Changed By  |  Change Description |\n",
        "|---|---|---|---|\n",
        "| 2020-09-23  | 2.0  | Shubham  |  Migrated Lab to Markdown and added to course repo in GitLab |\n",
        "\n",
        "-->\n"
      ]
    },
    {
      "cell_type": "markdown",
      "metadata": {
        "id": "30fc1a7c-26cf-4f93-8b75-11d49c7d7a9e"
      },
      "source": [
        "\n",
        "\n",
        "## <h3 align=\"center\"> &#169; IBM Corporation. All rights reserved. <h3/>\n"
      ]
    }
  ],
  "metadata": {
    "kernelspec": {
      "display_name": "Python",
      "language": "python",
      "name": "conda-env-python-py"
    },
    "language_info": {
      "name": "python",
      "version": "3.7.12",
      "mimetype": "text/x-python",
      "codemirror_mode": {
        "name": "ipython",
        "version": 3
      },
      "pygments_lexer": "ipython3",
      "nbconvert_exporter": "python",
      "file_extension": ".py"
    },
    "prev_pub_hash": "348c460561d62a134b0dd3ebad12925f619afd1eb72438d2ead061938c88378c",
    "colab": {
      "provenance": []
    }
  },
  "nbformat": 4,
  "nbformat_minor": 0
}