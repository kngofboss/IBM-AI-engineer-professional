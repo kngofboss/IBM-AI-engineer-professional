{
  "cells": [
    {
      "cell_type": "markdown",
      "metadata": {
        "id": "cdce5ef4-06a5-4e14-98c3-b54b00a47308"
      },
      "source": [
        "<p style=\"text-align:center\">\n",
        "    <a href=\"https://skills.network\" target=\"_blank\">\n",
        "    <img src=\"https://cf-courses-data.s3.us.cloud-object-storage.appdomain.cloud/assets/logos/SN_web_lightmode.png\" width=\"200\" alt=\"Skills Network Logo\">\n",
        "    </a>\n",
        "</p>\n"
      ]
    },
    {
      "cell_type": "markdown",
      "metadata": {
        "id": "4bfd05c9-c90d-420a-bdff-464ac7fec766"
      },
      "source": [
        "<h1>Linear regression 1D: Training Two Parameter Stochastic Gradient Descent (SGD)</h1>\n"
      ]
    },
    {
      "cell_type": "markdown",
      "metadata": {
        "id": "c76cb0cf-12e3-4871-b26d-7dad817f4e20"
      },
      "source": [
        "<h2>Objective</h2><ul><li> How to use SGD(Stochastic Gradient Descent) to train the model.</li></ul>\n"
      ]
    },
    {
      "cell_type": "markdown",
      "metadata": {
        "id": "a2ee4d6b-d531-413b-bfc4-3592564015e2"
      },
      "source": [
        "<h2>Table of Contents</h2>\n",
        "<p>In this Lab, you will practice training a model by using Stochastic Gradient descent.</p>\n",
        "\n",
        "<ul>\n",
        "    <li><a href=\"#Make-Data\">Make Some Data</a></li>\n",
        "    <li><a href=\"#Model_Cost\">Create the Model and Cost Function (Total Loss)</a></li>\n",
        "    <li><a href=\"#BGD\">Train the Model: Batch Gradient Descent</a></li>\n",
        "    <li><a href=\"#SGD\">Train the Model: Stochastic gradient descent</a></li>\n",
        "    <li><a href=\"#SGD_Loader\">Train the Model: Stochastic gradient descent with Data Loader</a></li>\n",
        "</ul>\n",
        "<p>Estimated Time Needed: <strong>30 min</strong></p>\n",
        "\n",
        "<hr>\n"
      ]
    },
    {
      "cell_type": "markdown",
      "metadata": {
        "id": "f7d0aecf-d981-48ed-8635-d92d561a6acb"
      },
      "source": [
        "<h2>Preparation</h2>\n"
      ]
    },
    {
      "cell_type": "markdown",
      "metadata": {
        "id": "6966d145-fc5b-4ea2-8d3e-a0e0a25cdce7"
      },
      "source": [
        "We'll need the following libraries:  \n"
      ]
    },
    {
      "cell_type": "code",
      "metadata": {
        "id": "36ce7422-40bf-4ea6-ae4f-72c11142659e"
      },
      "outputs": [],
      "source": [
        "# These are the libraries we are going to use in the lab.\n",
        "\n",
        "import torch\n",
        "import matplotlib.pyplot as plt\n",
        "import numpy as np\n",
        "\n",
        "from mpl_toolkits import mplot3d"
      ],
      "execution_count": null
    },
    {
      "cell_type": "markdown",
      "metadata": {
        "id": "24ffc7ef-617a-4f0a-8a17-5622c52c917a"
      },
      "source": [
        "The class <code>plot_error_surfaces</code> is just to help you visualize the data space and the parameter space during training and has nothing to do with PyTorch.\n"
      ]
    },
    {
      "cell_type": "code",
      "metadata": {
        "id": "d0fe96c7-54aa-4983-8f9e-4812ffd918e5"
      },
      "outputs": [],
      "source": [
        "# The class for plot the diagram\n",
        "\n",
        "class plot_error_surfaces(object):\n",
        "\n",
        "    # Constructor\n",
        "    def __init__(self, w_range, b_range, X, Y, n_samples = 30, go = True):\n",
        "        W = np.linspace(-w_range, w_range, n_samples)\n",
        "        B = np.linspace(-b_range, b_range, n_samples)\n",
        "        w, b = np.meshgrid(W, B)\n",
        "        Z = np.zeros((30, 30))\n",
        "        count1 = 0\n",
        "        self.y = Y.numpy()\n",
        "        self.x = X.numpy()\n",
        "        for w1, b1 in zip(w, b):\n",
        "            count2 = 0\n",
        "            for w2, b2 in zip(w1, b1):\n",
        "                Z[count1, count2] = np.mean((self.y - w2 * self.x + b2) ** 2)\n",
        "                count2 += 1\n",
        "            count1 += 1\n",
        "        self.Z = Z\n",
        "        self.w = w\n",
        "        self.b = b\n",
        "        self.W = []\n",
        "        self.B = []\n",
        "        self.LOSS = []\n",
        "        self.n = 0\n",
        "        if go == True:\n",
        "            plt.figure()\n",
        "            plt.figure(figsize = (7.5, 5))\n",
        "            plt.axes(projection = '3d').plot_surface(self.w, self.b, self.Z, rstride = 1, cstride = 1,cmap = 'viridis', edgecolor = 'none')\n",
        "            plt.title('Loss Surface')\n",
        "            plt.xlabel('w')\n",
        "            plt.ylabel('b')\n",
        "            plt.show()\n",
        "            plt.figure()\n",
        "            plt.title('Loss Surface Contour')\n",
        "            plt.xlabel('w')\n",
        "            plt.ylabel('b')\n",
        "            plt.contour(self.w, self.b, self.Z)\n",
        "            plt.show()\n",
        "\n",
        "    # Setter\n",
        "    def set_para_loss(self, W, B, loss):\n",
        "        self.n = self.n + 1\n",
        "        self.W.append(W)\n",
        "        self.B.append(B)\n",
        "        self.LOSS.append(loss)\n",
        "\n",
        "    # Plot diagram\n",
        "    def final_plot(self):\n",
        "        ax = plt.axes(projection = '3d')\n",
        "        ax.plot_wireframe(self.w, self.b, self.Z)\n",
        "        ax.scatter(self.W, self.B, self.LOSS, c = 'r', marker = 'x', s = 200, alpha = 1)\n",
        "        plt.figure()\n",
        "        plt.contour(self.w, self.b, self.Z)\n",
        "        plt.scatter(self.W, self.B, c = 'r', marker = 'x')\n",
        "        plt.xlabel('w')\n",
        "        plt.ylabel('b')\n",
        "        plt.show()\n",
        "\n",
        "    # Plot diagram\n",
        "    def plot_ps(self):\n",
        "        plt.subplot(121)\n",
        "        plt.ylim\n",
        "        plt.plot(self.x, self.y, 'ro', label = \"training points\")\n",
        "        plt.plot(self.x, self.W[-1] * self.x + self.B[-1], label = \"estimated line\")\n",
        "        plt.xlabel('x')\n",
        "        plt.ylabel('y')\n",
        "        plt.ylim((-10, 15))\n",
        "        plt.title('Data Space Iteration: ' + str(self.n))\n",
        "        plt.subplot(122)\n",
        "        plt.contour(self.w, self.b, self.Z)\n",
        "        plt.scatter(self.W, self.B, c = 'r', marker = 'x')\n",
        "        plt.title('Loss Surface Contour Iteration' + str(self.n))\n",
        "        plt.xlabel('w')\n",
        "        plt.ylabel('b')\n",
        "        plt.show()"
      ],
      "execution_count": null
    },
    {
      "cell_type": "markdown",
      "metadata": {
        "id": "29ddbd9c-0708-4c93-b3af-5a92aa012a1e"
      },
      "source": [
        "<!--Empty Space for separating topics-->\n"
      ]
    },
    {
      "cell_type": "markdown",
      "metadata": {
        "id": "e93d24a9-fd58-44ed-9a52-7ee56c8fc480"
      },
      "source": [
        "<a name=\"Make-Data\"><h2 id=\"Make-Data\">Make Some Data</h2></a>\n"
      ]
    },
    {
      "cell_type": "markdown",
      "metadata": {
        "id": "be354e47-d2d3-47dc-8a31-e4cfebc4d380"
      },
      "source": [
        "Set random seed:\n"
      ]
    },
    {
      "cell_type": "code",
      "metadata": {
        "id": "51bbafc2-3fc9-4a1c-ae0c-2eec33587116"
      },
      "outputs": [],
      "source": [
        "# Set random seed\n",
        "\n",
        "torch.manual_seed(1)"
      ],
      "execution_count": null
    },
    {
      "cell_type": "markdown",
      "metadata": {
        "id": "e70d7b82-fae2-4d96-a316-87de5f601ca8"
      },
      "source": [
        "Generate values from <i>-3</i> to <i>3</i> that create a line with a slope of <i>1</i> and a bias of <i>-1</i>. This is the line that you need to estimate. Add some noise to the data:\n"
      ]
    },
    {
      "cell_type": "code",
      "metadata": {
        "id": "9e7fe91c-b71d-44b3-9eb1-a963c32d06c5"
      },
      "outputs": [],
      "source": [
        "# Setup the actual data and simulated data\n",
        "\n",
        "X = torch.arange(-3, 3, 0.1).view(-1, 1)\n",
        "f = 1 * X - 1\n",
        "Y = f + 0.1 * torch.randn(X.size())"
      ],
      "execution_count": null
    },
    {
      "cell_type": "markdown",
      "metadata": {
        "id": "8d329eb5-2de8-4ef2-8e11-2dbff786769a"
      },
      "source": [
        "Plot the results:\n"
      ]
    },
    {
      "cell_type": "code",
      "metadata": {
        "id": "f97eb71b-3365-48e0-8c18-9ac43a6019b5"
      },
      "outputs": [],
      "source": [
        "# Plot out the data dots and line\n",
        "\n",
        "plt.plot(X.numpy(), Y.numpy(), 'rx', label = 'y')\n",
        "plt.plot(X.numpy(), f.numpy(), label = 'f')\n",
        "plt.xlabel('x')\n",
        "plt.ylabel('y')\n",
        "plt.legend()\n",
        "plt.show()"
      ],
      "execution_count": null
    },
    {
      "cell_type": "markdown",
      "metadata": {
        "id": "0648191b-1d70-4d19-b50b-c0e05cb8be1b"
      },
      "source": [
        "<!--Empty Space for separating topics-->\n"
      ]
    },
    {
      "cell_type": "markdown",
      "metadata": {
        "id": "1c413abc-476a-467c-b922-5829e7a6c0e9"
      },
      "source": [
        "<a name=\"Model_Cost\"><h2 id=\"Model_Cost\">Create the Model and Cost Function (Total Loss)</h2></a>\n"
      ]
    },
    {
      "cell_type": "markdown",
      "metadata": {
        "id": "47abe6b0-4618-47ca-bb07-a3909ec97f1c"
      },
      "source": [
        "Define the <code>forward</code> function:\n"
      ]
    },
    {
      "cell_type": "code",
      "metadata": {
        "id": "79bd4730-5170-46e2-a6a8-4694ee5a358a"
      },
      "outputs": [],
      "source": [
        "# Define the forward function\n",
        "\n",
        "def forward(x):\n",
        "    return w * x + b"
      ],
      "execution_count": null
    },
    {
      "cell_type": "markdown",
      "metadata": {
        "id": "1047fae9-a040-4044-b068-10e1a3e81227"
      },
      "source": [
        "Define the cost or criterion function (MSE):\n"
      ]
    },
    {
      "cell_type": "code",
      "metadata": {
        "id": "c233eb14-0992-494b-99de-3754dac69d37"
      },
      "outputs": [],
      "source": [
        "# Define the MSE Loss function\n",
        "\n",
        "def criterion(yhat, y):\n",
        "    return torch.mean((yhat - y) ** 2)"
      ],
      "execution_count": null
    },
    {
      "cell_type": "markdown",
      "metadata": {
        "id": "e6a8d746-3c8e-4db9-b8f2-6ff6705b0927"
      },
      "source": [
        "Create a <code> plot_error_surfaces</code> object to visualize the data space and the parameter space during training:\n"
      ]
    },
    {
      "cell_type": "code",
      "metadata": {
        "id": "891d6d36-2c6d-4d65-bfd0-a2699649e530"
      },
      "outputs": [],
      "source": [
        "# Create plot_error_surfaces for viewing the data\n",
        "\n",
        "get_surface = plot_error_surfaces(15, 13, X, Y, 30)"
      ],
      "execution_count": null
    },
    {
      "cell_type": "markdown",
      "metadata": {
        "id": "8f776fca-7aa0-414c-a04e-4f4c12239674"
      },
      "source": [
        "<!--Empty Space for separating topics-->\n"
      ]
    },
    {
      "cell_type": "markdown",
      "metadata": {
        "id": "5f93e8a6-1b2b-4af4-b3c8-1f00e082c060"
      },
      "source": [
        "<a name=\"BGD\"><h2 id=\"BGD\">Train the Model: Batch Gradient Descent</h2></a>\n"
      ]
    },
    {
      "cell_type": "markdown",
      "metadata": {
        "id": "c1e11001-05bc-4fcb-a50f-22b2c5f27a53"
      },
      "source": [
        "Create model parameters <code>w</code>, <code>b</code> by setting the argument <code>requires_grad</code> to True because the system must learn it.\n"
      ]
    },
    {
      "cell_type": "code",
      "metadata": {
        "id": "aa5bc447-2b3e-45c4-9f98-2611144b7186"
      },
      "outputs": [],
      "source": [
        "# Define the parameters w, b for y = wx + b\n",
        "\n",
        "w = torch.tensor(-15.0, requires_grad = True)\n",
        "b = torch.tensor(-10.0, requires_grad = True)"
      ],
      "execution_count": null
    },
    {
      "cell_type": "markdown",
      "metadata": {
        "id": "648fb6fe-ada4-4ee2-87c7-786049426311"
      },
      "source": [
        "Set the learning rate to  0.1 and create an empty list <code>LOSS</code> for storing the loss for each iteration.\n"
      ]
    },
    {
      "cell_type": "code",
      "metadata": {
        "id": "53cb19be-5caf-45e1-9e46-190f69568f0e"
      },
      "outputs": [],
      "source": [
        "# Define learning rate and create an empty list for containing the loss for each iteration.\n",
        "\n",
        "lr = 0.1\n",
        "LOSS_BGD = []"
      ],
      "execution_count": null
    },
    {
      "cell_type": "markdown",
      "metadata": {
        "id": "9c8052e8-e1fc-4614-97be-2af8dda174ed"
      },
      "source": [
        "Define <code>train_model</code> function for train the model.\n"
      ]
    },
    {
      "cell_type": "code",
      "metadata": {
        "id": "5441dd82-d4de-4e3c-be20-54f8bf9f2211"
      },
      "outputs": [],
      "source": [
        "# The function for training the model\n",
        "\n",
        "def train_model(iter):\n",
        "\n",
        "    # Loop\n",
        "    for epoch in range(iter):\n",
        "\n",
        "        # make a prediction\n",
        "        Yhat = forward(X)\n",
        "\n",
        "        # calculate the loss\n",
        "        loss = criterion(Yhat, Y)\n",
        "\n",
        "        # Section for plotting\n",
        "        get_surface.set_para_loss(w.data.tolist(), b.data.tolist(), loss.tolist())\n",
        "        get_surface.plot_ps()\n",
        "\n",
        "        # store the loss in the list LOSS_BGD\n",
        "        LOSS_BGD.append(loss)\n",
        "\n",
        "        # backward pass: compute gradient of the loss with respect to all the learnable parameters\n",
        "        loss.backward()\n",
        "\n",
        "        # update parameters slope and bias\n",
        "        w.data = w.data - lr * w.grad.data\n",
        "        b.data = b.data - lr * b.grad.data\n",
        "\n",
        "        # zero the gradients before running the backward pass\n",
        "        w.grad.data.zero_()\n",
        "        b.grad.data.zero_()"
      ],
      "execution_count": null
    },
    {
      "cell_type": "markdown",
      "metadata": {
        "id": "674f6799-5c77-4432-90a2-057ad8422825"
      },
      "source": [
        "Run 10 epochs of batch gradient descent: <b>bug</b> data space is 1 iteration ahead of parameter space.\n"
      ]
    },
    {
      "cell_type": "code",
      "metadata": {
        "id": "591b1284-6a92-4027-8f28-1d9b55db27f6"
      },
      "outputs": [],
      "source": [
        "# Train the model with 10 iterations\n",
        "\n",
        "train_model(10)"
      ],
      "execution_count": null
    },
    {
      "cell_type": "markdown",
      "metadata": {
        "id": "3d2a88ee-286b-4935-88f2-791489b0d389"
      },
      "source": [
        "<!--Empty Space for separating topics-->\n"
      ]
    },
    {
      "cell_type": "markdown",
      "metadata": {
        "id": "757c3938-84c4-47e3-bd4f-9d085c43d68d"
      },
      "source": [
        "<a name=\"SGD\"><h2 id=\"SGD\">Train the Model: Stochastic Gradient Descent</h2></a>\n"
      ]
    },
    {
      "cell_type": "markdown",
      "metadata": {
        "id": "fb6268a0-71c1-4f94-8c16-d0bf875c8baa"
      },
      "source": [
        "Create a <code>plot_error_surfaces</code> object to visualize the data space and the parameter space during training:\n"
      ]
    },
    {
      "cell_type": "code",
      "metadata": {
        "id": "074313b7-b59d-47f5-a09a-44f82c849c2e"
      },
      "outputs": [],
      "source": [
        "# Create plot_error_surfaces for viewing the data\n",
        "\n",
        "get_surface = plot_error_surfaces(15, 13, X, Y, 30, go = False)"
      ],
      "execution_count": null
    },
    {
      "cell_type": "markdown",
      "metadata": {
        "id": "2edc3c35-a402-468b-b255-5319b2b6e8da"
      },
      "source": [
        "Define <code>train_model_SGD</code> function for training the model.\n"
      ]
    },
    {
      "cell_type": "code",
      "metadata": {
        "id": "7117d54f-2cd3-40b5-b90c-6f975ff9a035"
      },
      "outputs": [],
      "source": [
        "# The function for training the model\n",
        "\n",
        "LOSS_SGD = []\n",
        "w = torch.tensor(-15.0, requires_grad = True)\n",
        "b = torch.tensor(-10.0, requires_grad = True)\n",
        "\n",
        "def train_model_SGD(iter):\n",
        "\n",
        "    # Loop\n",
        "    for epoch in range(iter):\n",
        "\n",
        "        # SGD is an approximation of out true total loss/cost, in this line of code we calculate our true loss/cost and store it\n",
        "        Yhat = forward(X)\n",
        "\n",
        "        # store the loss\n",
        "        LOSS_SGD.append(criterion(Yhat, Y).tolist())\n",
        "\n",
        "        for x, y in zip(X, Y):\n",
        "\n",
        "            # make a pridiction\n",
        "            yhat = forward(x)\n",
        "\n",
        "            # calculate the loss\n",
        "            loss = criterion(yhat, y)\n",
        "\n",
        "            # Section for plotting\n",
        "            get_surface.set_para_loss(w.data.tolist(), b.data.tolist(), loss.tolist())\n",
        "\n",
        "            # backward pass: compute gradient of the loss with respect to all the learnable parameters\n",
        "            loss.backward()\n",
        "\n",
        "            # update parameters slope and bias\n",
        "            w.data = w.data - lr * w.grad.data\n",
        "            b.data = b.data - lr * b.grad.data\n",
        "\n",
        "            # zero the gradients before running the backward pass\n",
        "            w.grad.data.zero_()\n",
        "            b.grad.data.zero_()\n",
        "\n",
        "        #plot surface and data space after each epoch\n",
        "        get_surface.plot_ps()"
      ],
      "execution_count": null
    },
    {
      "cell_type": "markdown",
      "metadata": {
        "id": "fe481fe9-aedd-405a-a540-642fb21c1abf"
      },
      "source": [
        "Run 10 epochs of stochastic gradient descent: <b>bug</b> data space is 1 iteration ahead of parameter space.\n"
      ]
    },
    {
      "cell_type": "code",
      "metadata": {
        "id": "bfbbfb40-c970-4fd1-b7e9-df189967744d"
      },
      "outputs": [],
      "source": [
        "# Train the model with 10 iterations\n",
        "\n",
        "train_model_SGD(10)"
      ],
      "execution_count": null
    },
    {
      "cell_type": "markdown",
      "metadata": {
        "id": "108bf39b-95f3-4555-b0b5-8743ac80d7a1"
      },
      "source": [
        "Compare the loss of both batch gradient descent as SGD.\n"
      ]
    },
    {
      "cell_type": "code",
      "metadata": {
        "id": "9cc6de17-0844-4150-af5e-924d144c5893"
      },
      "outputs": [],
      "source": [
        "# Plot out the LOSS_BGD and LOSS_SGD\n",
        "LOSS_BGD= [ loss.detach().numpy() for loss in LOSS_BGD]\n",
        "plt.plot(LOSS_BGD,label = \"Batch Gradient Descent\")\n",
        "plt.plot(LOSS_SGD,label = \"Stochastic Gradient Descent\")\n",
        "plt.xlabel('epoch')\n",
        "plt.ylabel('Cost/ total loss')\n",
        "plt.legend()\n",
        "plt.show()"
      ],
      "execution_count": null
    },
    {
      "cell_type": "markdown",
      "metadata": {
        "id": "5f7eaae1-08fa-4109-9dbd-e60219927e8a"
      },
      "source": [
        "<!--Empty Space for separating topics-->\n"
      ]
    },
    {
      "cell_type": "markdown",
      "metadata": {
        "id": "0aeeb800-257a-4941-a2f7-9c772536b3bd"
      },
      "source": [
        "<a name=\"SGD_Loader\"><h2 id=\"SGD_Loader\">SGD with Dataset DataLoader</h2></a>\n"
      ]
    },
    {
      "cell_type": "markdown",
      "metadata": {
        "id": "cf1c1f7d-6046-45b3-ad2d-80faaad7b78f"
      },
      "source": [
        "Import the module for building a dataset class:\n"
      ]
    },
    {
      "cell_type": "code",
      "metadata": {
        "id": "147a28cd-1bf0-47db-b1be-dc0cd615c05a"
      },
      "outputs": [],
      "source": [
        "# Import the library for DataLoader\n",
        "\n",
        "from torch.utils.data import Dataset, DataLoader"
      ],
      "execution_count": null
    },
    {
      "cell_type": "markdown",
      "metadata": {
        "id": "6df7096f-800e-4379-b008-a921f61d842d"
      },
      "source": [
        "Create a dataset class:\n"
      ]
    },
    {
      "cell_type": "code",
      "metadata": {
        "id": "b9d7f858-7b4f-43e4-a8eb-99f86995708f"
      },
      "outputs": [],
      "source": [
        "# Dataset Class\n",
        "\n",
        "class Data(Dataset):\n",
        "\n",
        "    # Constructor\n",
        "    def __init__(self):\n",
        "        self.x = torch.arange(-3, 3, 0.1).view(-1, 1)\n",
        "        self.y = 1 * self.x - 1\n",
        "        self.len = self.x.shape[0]\n",
        "\n",
        "    # Getter\n",
        "    def __getitem__(self,index):\n",
        "        return self.x[index], self.y[index]\n",
        "\n",
        "    # Return the length\n",
        "    def __len__(self):\n",
        "        return self.len"
      ],
      "execution_count": null
    },
    {
      "cell_type": "markdown",
      "metadata": {
        "id": "b8329b60-4732-4b73-94df-4f8b945ce32c"
      },
      "source": [
        "Create a dataset object and check the length of the dataset.\n"
      ]
    },
    {
      "cell_type": "code",
      "metadata": {
        "id": "0baf9f7e-7e5e-4771-98a7-a7dac3a4e575"
      },
      "outputs": [],
      "source": [
        "# Create the dataset and check the length\n",
        "\n",
        "dataset = Data()\n",
        "print(\"The length of dataset: \", len(dataset))"
      ],
      "execution_count": null
    },
    {
      "cell_type": "markdown",
      "metadata": {
        "id": "f698a265-fe02-4b49-8de4-918d8bc09694"
      },
      "source": [
        "Obtain the first training point:  \n"
      ]
    },
    {
      "cell_type": "code",
      "metadata": {
        "id": "acc5fe93-1e7e-4d4a-951d-2902719d647c"
      },
      "outputs": [],
      "source": [
        "# Print the first point\n",
        "\n",
        "x, y = dataset[0]\n",
        "print(\"(\", x, \", \", y, \")\")"
      ],
      "execution_count": null
    },
    {
      "cell_type": "markdown",
      "metadata": {
        "id": "2ba2f976-dfeb-4d01-85c8-93a68e4f0948"
      },
      "source": [
        "Similarly, obtain the first three training points:  \n"
      ]
    },
    {
      "cell_type": "code",
      "metadata": {
        "id": "4c4d9a8e-a12b-4147-83ef-8474b87db608"
      },
      "outputs": [],
      "source": [
        "# Print the first 3 point\n",
        "\n",
        "x, y = dataset[0:3]\n",
        "print(\"The first 3 x: \", x)\n",
        "print(\"The first 3 y: \", y)"
      ],
      "execution_count": null
    },
    {
      "cell_type": "markdown",
      "metadata": {
        "id": "438cf6c5-9c0c-47b3-aa38-e0c77b6cb6c1"
      },
      "source": [
        "Create a <code>plot_error_surfaces</code> object to visualize the data space and the parameter space during training:\n"
      ]
    },
    {
      "cell_type": "code",
      "metadata": {
        "id": "f8b1721e-2693-4617-8183-4596bf118624"
      },
      "outputs": [],
      "source": [
        "# Create plot_error_surfaces for viewing the data\n",
        "\n",
        "get_surface = plot_error_surfaces(15, 13, X, Y, 30, go = False)"
      ],
      "execution_count": null
    },
    {
      "cell_type": "markdown",
      "metadata": {
        "id": "ca9d08cf-5067-44e1-9890-6e8dc95376bd"
      },
      "source": [
        "Create a <code>DataLoader</code> object by using the constructor:\n"
      ]
    },
    {
      "cell_type": "code",
      "metadata": {
        "id": "30c14ca6-0abe-40f1-a49b-6d44435e3680"
      },
      "outputs": [],
      "source": [
        "# Create DataLoader\n",
        "\n",
        "trainloader = DataLoader(dataset = dataset, batch_size = 1)"
      ],
      "execution_count": null
    },
    {
      "cell_type": "markdown",
      "metadata": {
        "id": "78ac5e4c-862d-4f5d-9b6e-43f0881b496e"
      },
      "source": [
        "Define <code>train_model_DataLoader</code> function for training the model.\n"
      ]
    },
    {
      "cell_type": "code",
      "metadata": {
        "id": "8cb54afc-4d8b-4608-8dd5-683dc6515751"
      },
      "outputs": [],
      "source": [
        "# The function for training the model\n",
        "\n",
        "w = torch.tensor(-15.0,requires_grad=True)\n",
        "b = torch.tensor(-10.0,requires_grad=True)\n",
        "LOSS_Loader = []\n",
        "\n",
        "def train_model_DataLoader(epochs):\n",
        "\n",
        "    # Loop\n",
        "    for epoch in range(epochs):\n",
        "\n",
        "        # SGD is an approximation of out true total loss/cost, in this line of code we calculate our true loss/cost and store it\n",
        "        Yhat = forward(X)\n",
        "\n",
        "        # store the loss\n",
        "        LOSS_Loader.append(criterion(Yhat, Y).tolist())\n",
        "\n",
        "        for x, y in trainloader:\n",
        "\n",
        "            # make a prediction\n",
        "            yhat = forward(x)\n",
        "\n",
        "            # calculate the loss\n",
        "            loss = criterion(yhat, y)\n",
        "\n",
        "            # Section for plotting\n",
        "            get_surface.set_para_loss(w.data.tolist(), b.data.tolist(), loss.tolist())\n",
        "\n",
        "            # Backward pass: compute gradient of the loss with respect to all the learnable parameters\n",
        "            loss.backward()\n",
        "\n",
        "            # Updata parameters slope\n",
        "            w.data = w.data - lr * w.grad.data\n",
        "            b.data = b.data - lr* b.grad.data\n",
        "\n",
        "            # Clear gradients\n",
        "            w.grad.data.zero_()\n",
        "            b.grad.data.zero_()\n",
        "\n",
        "        #plot surface and data space after each epoch\n",
        "        get_surface.plot_ps()"
      ],
      "execution_count": null
    },
    {
      "cell_type": "markdown",
      "metadata": {
        "id": "f3109e61-8355-487a-8bfc-0c05686d25e5"
      },
      "source": [
        "Run 10 epochs of stochastic gradient descent: <b>bug</b> data space is 1 iteration ahead of parameter space.\n"
      ]
    },
    {
      "cell_type": "code",
      "metadata": {
        "id": "c3728519-872f-4265-8017-0b9f8e2a4bdd"
      },
      "outputs": [],
      "source": [
        "# Run 10 iterations\n",
        "\n",
        "train_model_DataLoader(10)"
      ],
      "execution_count": null
    },
    {
      "cell_type": "markdown",
      "metadata": {
        "id": "36c25195-4ee2-475e-a11b-1236ce5bef31"
      },
      "source": [
        "Compare the loss of both batch gradient decent as SGD. Note that SGD converges to a minimum faster, that is, it decreases faster.\n"
      ]
    },
    {
      "cell_type": "code",
      "metadata": {
        "id": "a7ce4251-c86a-440e-8ae5-4e8de3291b5f"
      },
      "outputs": [],
      "source": [
        "# Plot the LOSS_BGD and LOSS_Loader\n",
        "\n",
        "plt.plot(LOSS_BGD,label=\"Batch Gradient Descent\")\n",
        "plt.plot(LOSS_Loader,label=\"Stochastic Gradient Descent with DataLoader\")\n",
        "plt.xlabel('epoch')\n",
        "plt.ylabel('Cost/ total loss')\n",
        "plt.legend()\n",
        "plt.show()"
      ],
      "execution_count": null
    },
    {
      "cell_type": "markdown",
      "metadata": {
        "id": "a5b256fa-d013-4721-ab7e-c441c4066941"
      },
      "source": [
        "<h3>Practice</h3>\n"
      ]
    },
    {
      "cell_type": "markdown",
      "metadata": {
        "id": "b0eb5430-65ad-4414-8520-83f2660f7111"
      },
      "source": [
        "For practice, try to use SGD with DataLoader to train model with 10 iterations. Store the total loss in <code>LOSS</code>. We are going to use it in the next question.\n"
      ]
    },
    {
      "cell_type": "code",
      "metadata": {
        "id": "2d4cf303-08ea-4227-8fdc-e337a844f326"
      },
      "outputs": [],
      "source": [
        "# Practice: Use SGD with trainloader to train model and store the total loss in LOSS\n",
        "\n",
        "LOSS = []\n",
        "w = torch.tensor(-12.0, requires_grad = True)\n",
        "b = torch.tensor(-10.0, requires_grad = True)"
      ],
      "execution_count": null
    },
    {
      "cell_type": "markdown",
      "metadata": {
        "id": "ba0e6b35-0124-4999-a448-a15fe72ef4aa"
      },
      "source": [
        "Double-click <b>here</b> for the solution.\n",
        "\n",
        "<!--\n",
        "def my_train_model(epochs):\n",
        "    for epoch in range(epochs):\n",
        "        Yhat = forward(X)\n",
        "        LOSS.append(criterion(Yhat, Y).tolist())\n",
        "        for x, y in trainloader:\n",
        "            yhat = forward(x)\n",
        "            loss = criterion(yhat, y)\n",
        "            get_surface.set_para_loss(w.data.tolist(), b.data.tolist(), loss.tolist())\n",
        "            loss.backward()\n",
        "            w.data = w.data - lr * w.grad.data\n",
        "            b.data = b.data - lr * b.grad.data\n",
        "            w.grad.data.zero_()\n",
        "            b.grad.data.zero_()\n",
        "        get_surface.plot_ps()\n",
        "my_train_model(10)\n",
        "-->\n"
      ]
    },
    {
      "cell_type": "markdown",
      "metadata": {
        "id": "bb0386d7-e1f5-4900-bd6a-f927327034fb"
      },
      "source": [
        "Plot the total loss\n"
      ]
    },
    {
      "cell_type": "code",
      "metadata": {
        "id": "fced8be1-eb38-47dd-95d4-ff5ada761a57"
      },
      "outputs": [],
      "source": [
        "# Practice: Plot the total loss using LOSS\n",
        "\n",
        "# Type your code here\n"
      ],
      "execution_count": null
    },
    {
      "cell_type": "markdown",
      "metadata": {
        "id": "0e514913-5691-4d99-9be2-3bc3e75ac1da"
      },
      "source": [
        "Double-click __here__ for the solution.\n",
        "<!--\n",
        "plt.plot(LOSS,label = \"Stochastic Gradient Descent\")\n",
        "plt.xlabel('iteration')\n",
        "plt.ylabel('Cost/ total loss')\n",
        "plt.legend()\n",
        "plt.show()\n",
        "-->\n"
      ]
    },
    {
      "cell_type": "markdown",
      "metadata": {
        "id": "a543c9b5-2ab3-4d44-91a3-2634c720485e"
      },
      "source": [
        "\n",
        "\n",
        "<a href=\"https://dataplatform.cloud.ibm.com/registration/stepone?utm_source=skills_network&utm_content=in_lab_content_link&utm_id=Lab-IBMDeveloperSkillsNetwork-DL0110EN-SkillsNetwork&context=cpdaas&apps=data_science_experience%2Cwatson_machine_learning\"><img src=\"https://cf-courses-data.s3.us.cloud-object-storage.appdomain.cloud/IBMDeveloperSkillsNetwork-DL0110EN-SkillsNetwork/Template/module%201/images/Watson_Studio.png\"></a>\n"
      ]
    },
    {
      "cell_type": "markdown",
      "metadata": {
        "id": "9e29e665-69c7-4ab5-a5c7-5445b8383261"
      },
      "source": [
        "<!--Empty Space for separating topics-->\n"
      ]
    },
    {
      "cell_type": "markdown",
      "metadata": {
        "id": "58c71e40-f8e1-4137-adf8-9e3f9f9b32c0"
      },
      "source": [
        "<h2>About the Authors:</h2>\n",
        "\n",
        "<a href=\"https://www.linkedin.com/in/joseph-s-50398b136/\">Joseph Santarcangelo</a> has a PhD in Electrical Engineering, his research focused on using machine learning, signal processing, and computer vision to determine how videos impact human cognition. Joseph has been working for IBM since he completed his PhD.\n"
      ]
    },
    {
      "cell_type": "markdown",
      "metadata": {
        "id": "d1026507-7c8d-474f-a9e9-02e09c50fe96"
      },
      "source": [
        "Other contributors: <a href=\"https://www.linkedin.com/in/michelleccarey/\">Michelle Carey</a>, <a href=\"www.linkedin.com/in/jiahui-mavis-zhou-a4537814a\">Mavis Zhou</a>\n",
        "\n",
        "Thanks to: Andrew Kin ,Alessandro Barboza\n"
      ]
    },
    {
      "cell_type": "markdown",
      "metadata": {
        "id": "b59c27d1-7b7f-4657-a3dc-99a97ac3bc0f"
      },
      "source": [
        "<!--\n",
        "## Change Log\n",
        "\n",
        "|  Date (YYYY-MM-DD) |  Version | Changed By  |  Change Description |\n",
        "|---|---|---|---|\n",
        "| 2020-09-23  | 2.0  | Shubham  |  Migrated Lab to Markdown and added to course repo in GitLab |\n",
        "\n",
        "-->\n"
      ]
    },
    {
      "cell_type": "markdown",
      "metadata": {
        "id": "eff1e39c-6420-496c-aceb-7eb6afe57d09"
      },
      "source": [
        "<hr>\n"
      ]
    },
    {
      "cell_type": "markdown",
      "metadata": {
        "id": "8dd88858-4676-4471-91dd-967c4991a5fc"
      },
      "source": [
        "\n",
        "\n",
        "\n",
        "## <h3 align=\"center\"> &#169; IBM Corporation. All rights reserved. <h3/>\n"
      ]
    }
  ],
  "metadata": {
    "kernelspec": {
      "display_name": "Python",
      "language": "python",
      "name": "conda-env-python-py"
    },
    "language_info": {
      "codemirror_mode": {
        "name": "ipython",
        "version": 3
      },
      "file_extension": ".py",
      "mimetype": "text/x-python",
      "name": "python",
      "nbconvert_exporter": "python",
      "pygments_lexer": "ipython3",
      "version": "3.7.12"
    },
    "prev_pub_hash": "f6b03bbdb5d95539a2515386e020d86b0432a729180e6ba519ea7ad0ef89b8ba",
    "colab": {
      "provenance": []
    }
  },
  "nbformat": 4,
  "nbformat_minor": 0
}